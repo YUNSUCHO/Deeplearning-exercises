{
  "nbformat": 4,
  "nbformat_minor": 0,
  "metadata": {
    "colab": {
      "name": "Multiple Output Models using the Keras Functional API.ipynb",
      "provenance": [],
      "collapsed_sections": []
    },
    "kernelspec": {
      "name": "python3",
      "display_name": "Python 3"
    }
  },
  "cells": [
    {
      "cell_type": "code",
      "metadata": {
        "colab": {
          "base_uri": "https://localhost:8080/"
        },
        "id": "C7z-9ryFM8Qq",
        "outputId": "65831a5b-690a-4933-91b3-f83cc6bdc558"
      },
      "source": [
        "pip install utils"
      ],
      "execution_count": 2,
      "outputs": [
        {
          "output_type": "stream",
          "text": [
            "Collecting utils\n",
            "  Downloading https://files.pythonhosted.org/packages/55/e6/c2d2b2703e7debc8b501caae0e6f7ead148fd0faa3c8131292a599930029/utils-1.0.1-py2.py3-none-any.whl\n",
            "Installing collected packages: utils\n",
            "Successfully installed utils-1.0.1\n"
          ],
          "name": "stdout"
        }
      ]
    },
    {
      "cell_type": "code",
      "metadata": {
        "id": "DKhiWKIANCzx"
      },
      "source": [
        "import tensorflow as tf\n",
        "from tensorflow.keras.models import Model\n",
        "from tensorflow.keras.layers import Dense, Input\n",
        "\n",
        "import numpy as np\n",
        "import matplotlib.pyplot as plt\n",
        "import pandas as pd\n",
        "from sklearn.model_selection import train_test_split\n",
        "from sklearn.metrics import confusion_matrix\n",
        "import itertools\n",
        "\n",
        "import utils"
      ],
      "execution_count": 3,
      "outputs": []
    },
    {
      "cell_type": "code",
      "metadata": {
        "id": "TUCkrVuVM3Fx"
      },
      "source": [
        "\n",
        "# # URL of the white wine dataset\n",
        "URL = 'http://archive.ics.uci.edu/ml/machine-learning-databases/wine-quality/winequality-white.csv'\n",
        "\n",
        "# # load the dataset from the URL\n",
        "white_df = pd.read_csv(URL, sep=\";\")\n",
        "\n",
        "# # fill the `is_red` column with zeros.\n",
        "white_df[\"is_red\"] = 0 # YOUR CODE HERE\n",
        "\n",
        "# # keep only the first of duplicate items\n",
        "white_df = white_df.drop_duplicates(keep='first')\n",
        "\n"
      ],
      "execution_count": 4,
      "outputs": []
    },
    {
      "cell_type": "code",
      "metadata": {
        "colab": {
          "base_uri": "https://localhost:8080/",
          "height": 159
        },
        "id": "Fc1pqokBND2J",
        "outputId": "8c46bc93-3f28-43c0-c845-058d59906553"
      },
      "source": [
        "white_df.head(3)"
      ],
      "execution_count": 5,
      "outputs": [
        {
          "output_type": "execute_result",
          "data": {
            "text/html": [
              "<div>\n",
              "<style scoped>\n",
              "    .dataframe tbody tr th:only-of-type {\n",
              "        vertical-align: middle;\n",
              "    }\n",
              "\n",
              "    .dataframe tbody tr th {\n",
              "        vertical-align: top;\n",
              "    }\n",
              "\n",
              "    .dataframe thead th {\n",
              "        text-align: right;\n",
              "    }\n",
              "</style>\n",
              "<table border=\"1\" class=\"dataframe\">\n",
              "  <thead>\n",
              "    <tr style=\"text-align: right;\">\n",
              "      <th></th>\n",
              "      <th>fixed acidity</th>\n",
              "      <th>volatile acidity</th>\n",
              "      <th>citric acid</th>\n",
              "      <th>residual sugar</th>\n",
              "      <th>chlorides</th>\n",
              "      <th>free sulfur dioxide</th>\n",
              "      <th>total sulfur dioxide</th>\n",
              "      <th>density</th>\n",
              "      <th>pH</th>\n",
              "      <th>sulphates</th>\n",
              "      <th>alcohol</th>\n",
              "      <th>quality</th>\n",
              "      <th>is_red</th>\n",
              "    </tr>\n",
              "  </thead>\n",
              "  <tbody>\n",
              "    <tr>\n",
              "      <th>0</th>\n",
              "      <td>7.0</td>\n",
              "      <td>0.27</td>\n",
              "      <td>0.36</td>\n",
              "      <td>20.7</td>\n",
              "      <td>0.045</td>\n",
              "      <td>45.0</td>\n",
              "      <td>170.0</td>\n",
              "      <td>1.0010</td>\n",
              "      <td>3.00</td>\n",
              "      <td>0.45</td>\n",
              "      <td>8.8</td>\n",
              "      <td>6</td>\n",
              "      <td>0</td>\n",
              "    </tr>\n",
              "    <tr>\n",
              "      <th>1</th>\n",
              "      <td>6.3</td>\n",
              "      <td>0.30</td>\n",
              "      <td>0.34</td>\n",
              "      <td>1.6</td>\n",
              "      <td>0.049</td>\n",
              "      <td>14.0</td>\n",
              "      <td>132.0</td>\n",
              "      <td>0.9940</td>\n",
              "      <td>3.30</td>\n",
              "      <td>0.49</td>\n",
              "      <td>9.5</td>\n",
              "      <td>6</td>\n",
              "      <td>0</td>\n",
              "    </tr>\n",
              "    <tr>\n",
              "      <th>2</th>\n",
              "      <td>8.1</td>\n",
              "      <td>0.28</td>\n",
              "      <td>0.40</td>\n",
              "      <td>6.9</td>\n",
              "      <td>0.050</td>\n",
              "      <td>30.0</td>\n",
              "      <td>97.0</td>\n",
              "      <td>0.9951</td>\n",
              "      <td>3.26</td>\n",
              "      <td>0.44</td>\n",
              "      <td>10.1</td>\n",
              "      <td>6</td>\n",
              "      <td>0</td>\n",
              "    </tr>\n",
              "  </tbody>\n",
              "</table>\n",
              "</div>"
            ],
            "text/plain": [
              "   fixed acidity  volatile acidity  citric acid  ...  alcohol  quality  is_red\n",
              "0            7.0              0.27         0.36  ...      8.8        6       0\n",
              "1            6.3              0.30         0.34  ...      9.5        6       0\n",
              "2            8.1              0.28         0.40  ...     10.1        6       0\n",
              "\n",
              "[3 rows x 13 columns]"
            ]
          },
          "metadata": {
            "tags": []
          },
          "execution_count": 5
        }
      ]
    },
    {
      "cell_type": "code",
      "metadata": {
        "colab": {
          "base_uri": "https://localhost:8080/"
        },
        "id": "65Soqug6NGJB",
        "outputId": "479c030e-899e-4e4b-dba7-837d0596dac5"
      },
      "source": [
        "print(white_df.alcohol[0])\n",
        "print(white_df.alcohol[100])\n"
      ],
      "execution_count": 7,
      "outputs": [
        {
          "output_type": "stream",
          "text": [
            "8.8\n",
            "9.1\n"
          ],
          "name": "stdout"
        }
      ]
    },
    {
      "cell_type": "code",
      "metadata": {
        "id": "A5Ftf_4cNJwG"
      },
      "source": [
        "# # URL of the red wine dataset\n",
        "URL = 'http://archive.ics.uci.edu/ml/machine-learning-databases/wine-quality/winequality-red.csv'\n",
        "\n",
        "# # load the dataset from the URL\n",
        "red_df = pd.read_csv(URL, sep=\";\")\n",
        "\n",
        "# # fill the `is_red` column with ones.\n",
        "red_df[\"is_red\"] = 1 # YOUR CODE HERE\n",
        "\n",
        "# # keep only the first of duplicate items\n",
        "red_df = red_df.drop_duplicates(keep='first')\n",
        "\n"
      ],
      "execution_count": 8,
      "outputs": []
    },
    {
      "cell_type": "code",
      "metadata": {
        "colab": {
          "base_uri": "https://localhost:8080/",
          "height": 159
        },
        "id": "aXd6m8-1NX3K",
        "outputId": "d8d655fb-3766-4157-f159-1d942cae10db"
      },
      "source": [
        "red_df.head(3)"
      ],
      "execution_count": 9,
      "outputs": [
        {
          "output_type": "execute_result",
          "data": {
            "text/html": [
              "<div>\n",
              "<style scoped>\n",
              "    .dataframe tbody tr th:only-of-type {\n",
              "        vertical-align: middle;\n",
              "    }\n",
              "\n",
              "    .dataframe tbody tr th {\n",
              "        vertical-align: top;\n",
              "    }\n",
              "\n",
              "    .dataframe thead th {\n",
              "        text-align: right;\n",
              "    }\n",
              "</style>\n",
              "<table border=\"1\" class=\"dataframe\">\n",
              "  <thead>\n",
              "    <tr style=\"text-align: right;\">\n",
              "      <th></th>\n",
              "      <th>fixed acidity</th>\n",
              "      <th>volatile acidity</th>\n",
              "      <th>citric acid</th>\n",
              "      <th>residual sugar</th>\n",
              "      <th>chlorides</th>\n",
              "      <th>free sulfur dioxide</th>\n",
              "      <th>total sulfur dioxide</th>\n",
              "      <th>density</th>\n",
              "      <th>pH</th>\n",
              "      <th>sulphates</th>\n",
              "      <th>alcohol</th>\n",
              "      <th>quality</th>\n",
              "      <th>is_red</th>\n",
              "    </tr>\n",
              "  </thead>\n",
              "  <tbody>\n",
              "    <tr>\n",
              "      <th>0</th>\n",
              "      <td>7.4</td>\n",
              "      <td>0.70</td>\n",
              "      <td>0.00</td>\n",
              "      <td>1.9</td>\n",
              "      <td>0.076</td>\n",
              "      <td>11.0</td>\n",
              "      <td>34.0</td>\n",
              "      <td>0.9978</td>\n",
              "      <td>3.51</td>\n",
              "      <td>0.56</td>\n",
              "      <td>9.4</td>\n",
              "      <td>5</td>\n",
              "      <td>1</td>\n",
              "    </tr>\n",
              "    <tr>\n",
              "      <th>1</th>\n",
              "      <td>7.8</td>\n",
              "      <td>0.88</td>\n",
              "      <td>0.00</td>\n",
              "      <td>2.6</td>\n",
              "      <td>0.098</td>\n",
              "      <td>25.0</td>\n",
              "      <td>67.0</td>\n",
              "      <td>0.9968</td>\n",
              "      <td>3.20</td>\n",
              "      <td>0.68</td>\n",
              "      <td>9.8</td>\n",
              "      <td>5</td>\n",
              "      <td>1</td>\n",
              "    </tr>\n",
              "    <tr>\n",
              "      <th>2</th>\n",
              "      <td>7.8</td>\n",
              "      <td>0.76</td>\n",
              "      <td>0.04</td>\n",
              "      <td>2.3</td>\n",
              "      <td>0.092</td>\n",
              "      <td>15.0</td>\n",
              "      <td>54.0</td>\n",
              "      <td>0.9970</td>\n",
              "      <td>3.26</td>\n",
              "      <td>0.65</td>\n",
              "      <td>9.8</td>\n",
              "      <td>5</td>\n",
              "      <td>1</td>\n",
              "    </tr>\n",
              "  </tbody>\n",
              "</table>\n",
              "</div>"
            ],
            "text/plain": [
              "   fixed acidity  volatile acidity  citric acid  ...  alcohol  quality  is_red\n",
              "0            7.4              0.70         0.00  ...      9.4        5       1\n",
              "1            7.8              0.88         0.00  ...      9.8        5       1\n",
              "2            7.8              0.76         0.04  ...      9.8        5       1\n",
              "\n",
              "[3 rows x 13 columns]"
            ]
          },
          "metadata": {
            "tags": []
          },
          "execution_count": 9
        }
      ]
    },
    {
      "cell_type": "code",
      "metadata": {
        "colab": {
          "base_uri": "https://localhost:8080/"
        },
        "id": "M5bOOzChNdYw",
        "outputId": "891a9f9f-155c-4be1-e7de-f296b14318b4"
      },
      "source": [
        "print(red_df.alcohol[0])\n",
        "print(red_df.alcohol[100])\n"
      ],
      "execution_count": 10,
      "outputs": [
        {
          "output_type": "stream",
          "text": [
            "9.4\n",
            "10.2\n"
          ],
          "name": "stdout"
        }
      ]
    },
    {
      "cell_type": "code",
      "metadata": {
        "id": "FSYT530wNgzM"
      },
      "source": [
        "df = pd.concat([red_df, white_df], ignore_index=True)"
      ],
      "execution_count": 11,
      "outputs": []
    },
    {
      "cell_type": "code",
      "metadata": {
        "colab": {
          "base_uri": "https://localhost:8080/"
        },
        "id": "KNbdaSi2Njgt",
        "outputId": "0eddfdc2-135c-445a-f0e5-587cdf616f7c"
      },
      "source": [
        "print(df.alcohol[0])\n",
        "print(df.alcohol[100])\n",
        "\n"
      ],
      "execution_count": 12,
      "outputs": [
        {
          "output_type": "stream",
          "text": [
            "9.4\n",
            "9.5\n"
          ],
          "name": "stdout"
        }
      ]
    },
    {
      "cell_type": "code",
      "metadata": {
        "id": "olPMQMA8Nlvx"
      },
      "source": [
        "df = df.iloc[np.random.permutation(len(df))]\n",
        "# np.random.permutation() : Randomly permute a sequence, or return a permuted(changed) range."
      ],
      "execution_count": 13,
      "outputs": []
    },
    {
      "cell_type": "code",
      "metadata": {
        "colab": {
          "base_uri": "https://localhost:8080/",
          "height": 265
        },
        "id": "OeXzrlFRNo_b",
        "outputId": "e0b0b61a-0c0f-48eb-f2cd-ffc97205226b"
      },
      "source": [
        "df['quality'].hist(bins=20);"
      ],
      "execution_count": 14,
      "outputs": [
        {
          "output_type": "display_data",
          "data": {
            "image/png": "[encoded data removed]",
            "text/plain": [
              "<Figure size 432x288 with 1 Axes>"
            ]
          },
          "metadata": {
            "tags": [],
            "needs_background": "light"
          }
        }
      ]
    },
    {
      "cell_type": "code",
      "metadata": {
        "id": "bIhuKPnFNq3F"
      },
      "source": [
        "# # get data with wine quality greater than 4 and less than 8\n",
        "df = df[(df['quality'] > 4) & (df['quality'] < 8 )]\n",
        "\n",
        "# # reset index and drop the old one\n",
        "df = df.reset_index(drop=True)"
      ],
      "execution_count": 15,
      "outputs": []
    },
    {
      "cell_type": "code",
      "metadata": {
        "colab": {
          "base_uri": "https://localhost:8080/"
        },
        "id": "qf5eMCEjNtbF",
        "outputId": "98e9c67a-d5b4-4c8a-ada5-601d5e5efc96"
      },
      "source": [
        "print(df.alcohol[0])\n",
        "print(df.alcohol[100])\n",
        "\n"
      ],
      "execution_count": 16,
      "outputs": [
        {
          "output_type": "stream",
          "text": [
            "12.0\n",
            "10.3\n"
          ],
          "name": "stdout"
        }
      ]
    },
    {
      "cell_type": "code",
      "metadata": {
        "colab": {
          "base_uri": "https://localhost:8080/",
          "height": 265
        },
        "id": "laECsMnfNwE2",
        "outputId": "5eaa2f8e-281b-4f73-d8a7-2992d9177786"
      },
      "source": [
        "df['quality'].hist(bins=20);"
      ],
      "execution_count": 17,
      "outputs": [
        {
          "output_type": "display_data",
          "data": {
            "image/png": "[encoded data removed]",
            "text/plain": [
              "<Figure size 432x288 with 1 Axes>"
            ]
          },
          "metadata": {
            "tags": [],
            "needs_background": "light"
          }
        }
      ]
    },
    {
      "cell_type": "code",
      "metadata": {
        "id": "ngNwIJ4eNx9j"
      },
      "source": [
        "# # split df into 80:20 train and test sets\n",
        "train, test = train_test_split(df, test_size= 0.2, random_state = 1)\n",
        "                               \n",
        "# # split train into 80:20 train and val sets\n",
        "train, val = train_test_split(train, test_size= 0.2, random_state = 1)"
      ],
      "execution_count": 18,
      "outputs": []
    },
    {
      "cell_type": "code",
      "metadata": {
        "id": "lbgg3B4hN0qh"
      },
      "source": [
        "train_stats = train.describe()\n",
        "train_stats.pop('is_red')\n",
        "train_stats.pop('quality')\n",
        "train_stats = train_stats.transpose()"
      ],
      "execution_count": 19,
      "outputs": []
    },
    {
      "cell_type": "code",
      "metadata": {
        "colab": {
          "base_uri": "https://localhost:8080/",
          "height": 390
        },
        "id": "sUINvUzuN4EZ",
        "outputId": "1e517d41-2a91-4573-deb6-6975bb1ee13e"
      },
      "source": [
        "train_stats"
      ],
      "execution_count": 20,
      "outputs": [
        {
          "output_type": "execute_result",
          "data": {
            "text/html": [
              "<div>\n",
              "<style scoped>\n",
              "    .dataframe tbody tr th:only-of-type {\n",
              "        vertical-align: middle;\n",
              "    }\n",
              "\n",
              "    .dataframe tbody tr th {\n",
              "        vertical-align: top;\n",
              "    }\n",
              "\n",
              "    .dataframe thead th {\n",
              "        text-align: right;\n",
              "    }\n",
              "</style>\n",
              "<table border=\"1\" class=\"dataframe\">\n",
              "  <thead>\n",
              "    <tr style=\"text-align: right;\">\n",
              "      <th></th>\n",
              "      <th>count</th>\n",
              "      <th>mean</th>\n",
              "      <th>std</th>\n",
              "      <th>min</th>\n",
              "      <th>25%</th>\n",
              "      <th>50%</th>\n",
              "      <th>75%</th>\n",
              "      <th>max</th>\n",
              "    </tr>\n",
              "  </thead>\n",
              "  <tbody>\n",
              "    <tr>\n",
              "      <th>fixed acidity</th>\n",
              "      <td>3155.0</td>\n",
              "      <td>7.227322</td>\n",
              "      <td>1.331984</td>\n",
              "      <td>4.20000</td>\n",
              "      <td>6.4000</td>\n",
              "      <td>7.0000</td>\n",
              "      <td>7.7000</td>\n",
              "      <td>15.90000</td>\n",
              "    </tr>\n",
              "    <tr>\n",
              "      <th>volatile acidity</th>\n",
              "      <td>3155.0</td>\n",
              "      <td>0.341204</td>\n",
              "      <td>0.162770</td>\n",
              "      <td>0.08000</td>\n",
              "      <td>0.2300</td>\n",
              "      <td>0.3000</td>\n",
              "      <td>0.4100</td>\n",
              "      <td>1.33000</td>\n",
              "    </tr>\n",
              "    <tr>\n",
              "      <th>citric acid</th>\n",
              "      <td>3155.0</td>\n",
              "      <td>0.322254</td>\n",
              "      <td>0.148680</td>\n",
              "      <td>0.00000</td>\n",
              "      <td>0.2500</td>\n",
              "      <td>0.3100</td>\n",
              "      <td>0.4000</td>\n",
              "      <td>1.66000</td>\n",
              "    </tr>\n",
              "    <tr>\n",
              "      <th>residual sugar</th>\n",
              "      <td>3155.0</td>\n",
              "      <td>5.019303</td>\n",
              "      <td>4.384995</td>\n",
              "      <td>0.70000</td>\n",
              "      <td>1.8000</td>\n",
              "      <td>2.7000</td>\n",
              "      <td>7.5000</td>\n",
              "      <td>23.50000</td>\n",
              "    </tr>\n",
              "    <tr>\n",
              "      <th>chlorides</th>\n",
              "      <td>3155.0</td>\n",
              "      <td>0.057263</td>\n",
              "      <td>0.037707</td>\n",
              "      <td>0.00900</td>\n",
              "      <td>0.0380</td>\n",
              "      <td>0.0470</td>\n",
              "      <td>0.0680</td>\n",
              "      <td>0.61100</td>\n",
              "    </tr>\n",
              "    <tr>\n",
              "      <th>free sulfur dioxide</th>\n",
              "      <td>3155.0</td>\n",
              "      <td>30.076070</td>\n",
              "      <td>17.114415</td>\n",
              "      <td>1.00000</td>\n",
              "      <td>17.0000</td>\n",
              "      <td>28.0000</td>\n",
              "      <td>41.0000</td>\n",
              "      <td>128.00000</td>\n",
              "    </tr>\n",
              "    <tr>\n",
              "      <th>total sulfur dioxide</th>\n",
              "      <td>3155.0</td>\n",
              "      <td>114.025357</td>\n",
              "      <td>56.917146</td>\n",
              "      <td>6.00000</td>\n",
              "      <td>74.0000</td>\n",
              "      <td>116.0000</td>\n",
              "      <td>154.0000</td>\n",
              "      <td>344.00000</td>\n",
              "    </tr>\n",
              "    <tr>\n",
              "      <th>density</th>\n",
              "      <td>3155.0</td>\n",
              "      <td>0.994534</td>\n",
              "      <td>0.002899</td>\n",
              "      <td>0.98711</td>\n",
              "      <td>0.9922</td>\n",
              "      <td>0.9947</td>\n",
              "      <td>0.9968</td>\n",
              "      <td>1.00369</td>\n",
              "    </tr>\n",
              "    <tr>\n",
              "      <th>pH</th>\n",
              "      <td>3155.0</td>\n",
              "      <td>3.222288</td>\n",
              "      <td>0.155745</td>\n",
              "      <td>2.72000</td>\n",
              "      <td>3.1200</td>\n",
              "      <td>3.2100</td>\n",
              "      <td>3.3200</td>\n",
              "      <td>4.01000</td>\n",
              "    </tr>\n",
              "    <tr>\n",
              "      <th>sulphates</th>\n",
              "      <td>3155.0</td>\n",
              "      <td>0.535030</td>\n",
              "      <td>0.147690</td>\n",
              "      <td>0.22000</td>\n",
              "      <td>0.4400</td>\n",
              "      <td>0.5100</td>\n",
              "      <td>0.6000</td>\n",
              "      <td>1.98000</td>\n",
              "    </tr>\n",
              "    <tr>\n",
              "      <th>alcohol</th>\n",
              "      <td>3155.0</td>\n",
              "      <td>10.542228</td>\n",
              "      <td>1.181583</td>\n",
              "      <td>8.40000</td>\n",
              "      <td>9.5000</td>\n",
              "      <td>10.4000</td>\n",
              "      <td>11.4000</td>\n",
              "      <td>14.90000</td>\n",
              "    </tr>\n",
              "  </tbody>\n",
              "</table>\n",
              "</div>"
            ],
            "text/plain": [
              "                       count        mean  ...       75%        max\n",
              "fixed acidity         3155.0    7.227322  ...    7.7000   15.90000\n",
              "volatile acidity      3155.0    0.341204  ...    0.4100    1.33000\n",
              "citric acid           3155.0    0.322254  ...    0.4000    1.66000\n",
              "residual sugar        3155.0    5.019303  ...    7.5000   23.50000\n",
              "chlorides             3155.0    0.057263  ...    0.0680    0.61100\n",
              "free sulfur dioxide   3155.0   30.076070  ...   41.0000  128.00000\n",
              "total sulfur dioxide  3155.0  114.025357  ...  154.0000  344.00000\n",
              "density               3155.0    0.994534  ...    0.9968    1.00369\n",
              "pH                    3155.0    3.222288  ...    3.3200    4.01000\n",
              "sulphates             3155.0    0.535030  ...    0.6000    1.98000\n",
              "alcohol               3155.0   10.542228  ...   11.4000   14.90000\n",
              "\n",
              "[11 rows x 8 columns]"
            ]
          },
          "metadata": {
            "tags": []
          },
          "execution_count": 20
        }
      ]
    },
    {
      "cell_type": "code",
      "metadata": {
        "id": "uM4WpgXYN7Vs"
      },
      "source": [
        "def format_output(data):\n",
        "    is_red = data.pop('is_red')\n",
        "    is_red = np.array(is_red)\n",
        "    quality = data.pop('quality')\n",
        "    quality = np.array(quality)\n",
        "    return (quality, is_red)"
      ],
      "execution_count": 21,
      "outputs": []
    },
    {
      "cell_type": "code",
      "metadata": {
        "id": "96CdB396N-KV"
      },
      "source": [
        "# # format the output of the train set\n",
        "train_Y = format_output(train)\n",
        "\n",
        "# # format the output of the val set\n",
        "val_Y = format_output(val)\n",
        "    \n",
        "# # format the output of the test set\n",
        "test_Y = format_output(test)"
      ],
      "execution_count": 22,
      "outputs": []
    },
    {
      "cell_type": "code",
      "metadata": {
        "colab": {
          "base_uri": "https://localhost:8080/",
          "height": 221
        },
        "id": "jm_bJFu9OAPG",
        "outputId": "bfe0c51d-3470-4333-9c3d-b73b4efe5316"
      },
      "source": [
        "train.head()"
      ],
      "execution_count": 24,
      "outputs": [
        {
          "output_type": "execute_result",
          "data": {
            "text/html": [
              "<div>\n",
              "<style scoped>\n",
              "    .dataframe tbody tr th:only-of-type {\n",
              "        vertical-align: middle;\n",
              "    }\n",
              "\n",
              "    .dataframe tbody tr th {\n",
              "        vertical-align: top;\n",
              "    }\n",
              "\n",
              "    .dataframe thead th {\n",
              "        text-align: right;\n",
              "    }\n",
              "</style>\n",
              "<table border=\"1\" class=\"dataframe\">\n",
              "  <thead>\n",
              "    <tr style=\"text-align: right;\">\n",
              "      <th></th>\n",
              "      <th>fixed acidity</th>\n",
              "      <th>volatile acidity</th>\n",
              "      <th>citric acid</th>\n",
              "      <th>residual sugar</th>\n",
              "      <th>chlorides</th>\n",
              "      <th>free sulfur dioxide</th>\n",
              "      <th>total sulfur dioxide</th>\n",
              "      <th>density</th>\n",
              "      <th>pH</th>\n",
              "      <th>sulphates</th>\n",
              "      <th>alcohol</th>\n",
              "    </tr>\n",
              "  </thead>\n",
              "  <tbody>\n",
              "    <tr>\n",
              "      <th>225</th>\n",
              "      <td>8.3</td>\n",
              "      <td>0.20</td>\n",
              "      <td>0.35</td>\n",
              "      <td>0.9</td>\n",
              "      <td>0.050</td>\n",
              "      <td>12.0</td>\n",
              "      <td>74.0</td>\n",
              "      <td>0.99200</td>\n",
              "      <td>3.13</td>\n",
              "      <td>0.38</td>\n",
              "      <td>10.5</td>\n",
              "    </tr>\n",
              "    <tr>\n",
              "      <th>3557</th>\n",
              "      <td>7.0</td>\n",
              "      <td>0.32</td>\n",
              "      <td>0.31</td>\n",
              "      <td>6.4</td>\n",
              "      <td>0.031</td>\n",
              "      <td>38.0</td>\n",
              "      <td>115.0</td>\n",
              "      <td>0.99235</td>\n",
              "      <td>3.38</td>\n",
              "      <td>0.58</td>\n",
              "      <td>12.2</td>\n",
              "    </tr>\n",
              "    <tr>\n",
              "      <th>3825</th>\n",
              "      <td>6.7</td>\n",
              "      <td>0.48</td>\n",
              "      <td>0.08</td>\n",
              "      <td>2.1</td>\n",
              "      <td>0.064</td>\n",
              "      <td>18.0</td>\n",
              "      <td>34.0</td>\n",
              "      <td>0.99552</td>\n",
              "      <td>3.33</td>\n",
              "      <td>0.64</td>\n",
              "      <td>9.7</td>\n",
              "    </tr>\n",
              "    <tr>\n",
              "      <th>1740</th>\n",
              "      <td>10.5</td>\n",
              "      <td>0.24</td>\n",
              "      <td>0.47</td>\n",
              "      <td>2.1</td>\n",
              "      <td>0.066</td>\n",
              "      <td>6.0</td>\n",
              "      <td>24.0</td>\n",
              "      <td>0.99780</td>\n",
              "      <td>3.15</td>\n",
              "      <td>0.90</td>\n",
              "      <td>11.0</td>\n",
              "    </tr>\n",
              "    <tr>\n",
              "      <th>1221</th>\n",
              "      <td>7.2</td>\n",
              "      <td>0.22</td>\n",
              "      <td>0.49</td>\n",
              "      <td>1.0</td>\n",
              "      <td>0.045</td>\n",
              "      <td>34.0</td>\n",
              "      <td>140.0</td>\n",
              "      <td>0.99000</td>\n",
              "      <td>3.05</td>\n",
              "      <td>0.34</td>\n",
              "      <td>12.7</td>\n",
              "    </tr>\n",
              "  </tbody>\n",
              "</table>\n",
              "</div>"
            ],
            "text/plain": [
              "      fixed acidity  volatile acidity  citric acid  ...    pH  sulphates  alcohol\n",
              "225             8.3              0.20         0.35  ...  3.13       0.38     10.5\n",
              "3557            7.0              0.32         0.31  ...  3.38       0.58     12.2\n",
              "3825            6.7              0.48         0.08  ...  3.33       0.64      9.7\n",
              "1740           10.5              0.24         0.47  ...  3.15       0.90     11.0\n",
              "1221            7.2              0.22         0.49  ...  3.05       0.34     12.7\n",
              "\n",
              "[5 rows x 11 columns]"
            ]
          },
          "metadata": {
            "tags": []
          },
          "execution_count": 24
        }
      ]
    },
    {
      "cell_type": "code",
      "metadata": {
        "id": "yJ_yBsCoOCaM"
      },
      "source": [
        "def norm(x):\n",
        "    return (x - train_stats['mean']) / train_stats['std']"
      ],
      "execution_count": 25,
      "outputs": []
    },
    {
      "cell_type": "code",
      "metadata": {
        "id": "yZI3OfBjOKmR"
      },
      "source": [
        "# # normalize the train set\n",
        "norm_train_X = norm(train)\n",
        "    \n",
        "# # normalize the val set\n",
        "norm_val_X = norm(val)\n",
        "    \n",
        "# # normalize the test set\n",
        "norm_test_X = norm(test)"
      ],
      "execution_count": 26,
      "outputs": []
    },
    {
      "cell_type": "code",
      "metadata": {
        "id": "0AwfZpYWOMzK"
      },
      "source": [
        "def base_model(inputs):\n",
        "    \n",
        "    # connect a Dense layer with 128 neurons and a relu activation\n",
        "    x = tf.keras.layers.Dense(128, activation= tf.nn.relu)(inputs)\n",
        "    \n",
        "    # connect another Dense layer with 128 neurons and a relu activation\n",
        "    x = tf.keras.layers.Dense(128, activation= tf.nn.relu)(x)\n",
        "    return x"
      ],
      "execution_count": 27,
      "outputs": []
    },
    {
      "cell_type": "code",
      "metadata": {
        "id": "EV4eNrgLOO4f"
      },
      "source": [
        "def final_model(inputs):\n",
        "    \n",
        "    # get the base model\n",
        "    x = base_model(inputs)\n",
        "\n",
        "    # connect the output Dense layer for regression\n",
        "    wine_quality = Dense(units='1', name='wine_quality')(x)\n",
        "\n",
        "    # connect the output Dense layer for classification. this will use a sigmoid activation.\n",
        "    wine_type = Dense(units='1', activation='sigmoid', name='wine_type')(x)\n",
        "\n",
        "    # define the model using the input and output layers\n",
        "    model = Model(inputs=inputs, outputs=[wine_quality, wine_type])\n",
        "\n",
        "    return model"
      ],
      "execution_count": 28,
      "outputs": []
    },
    {
      "cell_type": "code",
      "metadata": {
        "id": "HLjtfG5mOSfC"
      },
      "source": [
        "inputs = tf.keras.layers.Input(shape=(11,))\n",
        "rms = tf.keras.optimizers.RMSprop(lr=0.0001)\n",
        "model = final_model(inputs)\n",
        "\n",
        "model.compile(optimizer=rms, \n",
        "              loss = {'wine_type' : 'binary_crossentropy',\n",
        "                      'wine_quality' : 'mean_squared_error'\n",
        "                     },\n",
        "              metrics = {'wine_type' : 'accuracy',\n",
        "                         'wine_quality': tf.keras.metrics.RootMeanSquaredError()\n",
        "                       }\n",
        "             )\n",
        "\n",
        "\n"
      ],
      "execution_count": 29,
      "outputs": []
    },
    {
      "cell_type": "code",
      "metadata": {
        "colab": {
          "base_uri": "https://localhost:8080/"
        },
        "id": "vfisLg_4OVaQ",
        "outputId": "76928228-f5d3-4310-acc6-cce30a14e431"
      },
      "source": [
        "history = model.fit(norm_train_X,train_Y,\n",
        "                    epochs = 180, validation_data=(norm_val_X, val_Y))"
      ],
      "execution_count": 30,
      "outputs": [
        {
          "output_type": "stream",
          "text": [
            "Epoch 1/180\n",
            "99/99 [==============================] - 2s 5ms/step - loss: 27.3672 - wine_quality_loss: 26.7297 - wine_type_loss: 0.6375 - wine_quality_root_mean_squared_error: 5.1630 - wine_type_accuracy: 0.6468 - val_loss: 15.0191 - val_wine_quality_loss: 14.4599 - val_wine_type_loss: 0.5591 - val_wine_quality_root_mean_squared_error: 3.8026 - val_wine_type_accuracy: 0.7820\n",
            "Epoch 2/180\n",
            "99/99 [==============================] - 0s 2ms/step - loss: 11.6777 - wine_quality_loss: 11.1299 - wine_type_loss: 0.5479 - wine_quality_root_mean_squared_error: 3.3248 - wine_type_accuracy: 0.7616 - val_loss: 4.9472 - val_wine_quality_loss: 4.4664 - val_wine_type_loss: 0.4808 - val_wine_quality_root_mean_squared_error: 2.1134 - val_wine_type_accuracy: 0.7490\n",
            "Epoch 3/180\n",
            "99/99 [==============================] - 0s 2ms/step - loss: 3.6224 - wine_quality_loss: 3.1603 - wine_type_loss: 0.4621 - wine_quality_root_mean_squared_error: 1.7754 - wine_type_accuracy: 0.7524 - val_loss: 2.9668 - val_wine_quality_loss: 2.5704 - val_wine_type_loss: 0.3965 - val_wine_quality_root_mean_squared_error: 1.6032 - val_wine_type_accuracy: 0.7744\n",
            "Epoch 4/180\n",
            "99/99 [==============================] - 0s 2ms/step - loss: 2.5652 - wine_quality_loss: 2.1889 - wine_type_loss: 0.3763 - wine_quality_root_mean_squared_error: 1.4783 - wine_type_accuracy: 0.8001 - val_loss: 2.5304 - val_wine_quality_loss: 2.2196 - val_wine_type_loss: 0.3108 - val_wine_quality_root_mean_squared_error: 1.4898 - val_wine_type_accuracy: 0.9011\n",
            "Epoch 5/180\n",
            "99/99 [==============================] - 0s 4ms/step - loss: 2.1649 - wine_quality_loss: 1.8671 - wine_type_loss: 0.2977 - wine_quality_root_mean_squared_error: 1.3659 - wine_type_accuracy: 0.9154 - val_loss: 2.2417 - val_wine_quality_loss: 2.0034 - val_wine_type_loss: 0.2382 - val_wine_quality_root_mean_squared_error: 1.4154 - val_wine_type_accuracy: 0.9658\n",
            "Epoch 6/180\n",
            "99/99 [==============================] - 0s 2ms/step - loss: 1.8141 - wine_quality_loss: 1.5976 - wine_type_loss: 0.2165 - wine_quality_root_mean_squared_error: 1.2635 - wine_type_accuracy: 0.9719 - val_loss: 1.9988 - val_wine_quality_loss: 1.8162 - val_wine_type_loss: 0.1826 - val_wine_quality_root_mean_squared_error: 1.3477 - val_wine_type_accuracy: 0.9823\n",
            "Epoch 7/180\n",
            "99/99 [==============================] - 0s 2ms/step - loss: 1.6888 - wine_quality_loss: 1.5157 - wine_type_loss: 0.1731 - wine_quality_root_mean_squared_error: 1.2290 - wine_type_accuracy: 0.9830 - val_loss: 1.8143 - val_wine_quality_loss: 1.6719 - val_wine_type_loss: 0.1424 - val_wine_quality_root_mean_squared_error: 1.2930 - val_wine_type_accuracy: 0.9873\n",
            "Epoch 8/180\n",
            "99/99 [==============================] - 0s 2ms/step - loss: 1.5194 - wine_quality_loss: 1.3848 - wine_type_loss: 0.1347 - wine_quality_root_mean_squared_error: 1.1763 - wine_type_accuracy: 0.9872 - val_loss: 1.6644 - val_wine_quality_loss: 1.5509 - val_wine_type_loss: 0.1135 - val_wine_quality_root_mean_squared_error: 1.2453 - val_wine_type_accuracy: 0.9911\n",
            "Epoch 9/180\n",
            "99/99 [==============================] - 0s 2ms/step - loss: 1.3768 - wine_quality_loss: 1.2656 - wine_type_loss: 0.1112 - wine_quality_root_mean_squared_error: 1.1247 - wine_type_accuracy: 0.9889 - val_loss: 1.5545 - val_wine_quality_loss: 1.4600 - val_wine_type_loss: 0.0945 - val_wine_quality_root_mean_squared_error: 1.2083 - val_wine_type_accuracy: 0.9911\n",
            "Epoch 10/180\n",
            "99/99 [==============================] - 0s 2ms/step - loss: 1.2510 - wine_quality_loss: 1.1510 - wine_type_loss: 0.1001 - wine_quality_root_mean_squared_error: 1.0726 - wine_type_accuracy: 0.9846 - val_loss: 1.4425 - val_wine_quality_loss: 1.3629 - val_wine_type_loss: 0.0796 - val_wine_quality_root_mean_squared_error: 1.1674 - val_wine_type_accuracy: 0.9911\n",
            "Epoch 11/180\n",
            "99/99 [==============================] - 0s 2ms/step - loss: 1.1218 - wine_quality_loss: 1.0435 - wine_type_loss: 0.0782 - wine_quality_root_mean_squared_error: 1.0212 - wine_type_accuracy: 0.9910 - val_loss: 1.3357 - val_wine_quality_loss: 1.2665 - val_wine_type_loss: 0.0692 - val_wine_quality_root_mean_squared_error: 1.1254 - val_wine_type_accuracy: 0.9911\n",
            "Epoch 12/180\n",
            "99/99 [==============================] - 0s 2ms/step - loss: 1.1438 - wine_quality_loss: 1.0688 - wine_type_loss: 0.0751 - wine_quality_root_mean_squared_error: 1.0336 - wine_type_accuracy: 0.9892 - val_loss: 1.2616 - val_wine_quality_loss: 1.2008 - val_wine_type_loss: 0.0608 - val_wine_quality_root_mean_squared_error: 1.0958 - val_wine_type_accuracy: 0.9924\n",
            "Epoch 13/180\n",
            "99/99 [==============================] - 0s 2ms/step - loss: 1.0158 - wine_quality_loss: 0.9520 - wine_type_loss: 0.0637 - wine_quality_root_mean_squared_error: 0.9756 - wine_type_accuracy: 0.9894 - val_loss: 1.1965 - val_wine_quality_loss: 1.1420 - val_wine_type_loss: 0.0546 - val_wine_quality_root_mean_squared_error: 1.0686 - val_wine_type_accuracy: 0.9937\n",
            "Epoch 14/180\n",
            "99/99 [==============================] - 0s 2ms/step - loss: 0.9495 - wine_quality_loss: 0.8938 - wine_type_loss: 0.0558 - wine_quality_root_mean_squared_error: 0.9453 - wine_type_accuracy: 0.9921 - val_loss: 1.1217 - val_wine_quality_loss: 1.0720 - val_wine_type_loss: 0.0497 - val_wine_quality_root_mean_squared_error: 1.0354 - val_wine_type_accuracy: 0.9937\n",
            "Epoch 15/180\n",
            "99/99 [==============================] - 0s 2ms/step - loss: 0.9322 - wine_quality_loss: 0.8758 - wine_type_loss: 0.0564 - wine_quality_root_mean_squared_error: 0.9355 - wine_type_accuracy: 0.9907 - val_loss: 1.0539 - val_wine_quality_loss: 1.0082 - val_wine_type_loss: 0.0457 - val_wine_quality_root_mean_squared_error: 1.0041 - val_wine_type_accuracy: 0.9937\n",
            "Epoch 16/180\n",
            "99/99 [==============================] - 0s 2ms/step - loss: 0.8786 - wine_quality_loss: 0.8252 - wine_type_loss: 0.0534 - wine_quality_root_mean_squared_error: 0.9080 - wine_type_accuracy: 0.9907 - val_loss: 0.9945 - val_wine_quality_loss: 0.9521 - val_wine_type_loss: 0.0424 - val_wine_quality_root_mean_squared_error: 0.9758 - val_wine_type_accuracy: 0.9937\n",
            "Epoch 17/180\n",
            "99/99 [==============================] - 0s 2ms/step - loss: 0.7743 - wine_quality_loss: 0.7308 - wine_type_loss: 0.0435 - wine_quality_root_mean_squared_error: 0.8546 - wine_type_accuracy: 0.9935 - val_loss: 0.9402 - val_wine_quality_loss: 0.9006 - val_wine_type_loss: 0.0396 - val_wine_quality_root_mean_squared_error: 0.9490 - val_wine_type_accuracy: 0.9937\n",
            "Epoch 18/180\n",
            "99/99 [==============================] - 0s 2ms/step - loss: 0.7690 - wine_quality_loss: 0.7215 - wine_type_loss: 0.0475 - wine_quality_root_mean_squared_error: 0.8493 - wine_type_accuracy: 0.9891 - val_loss: 0.8884 - val_wine_quality_loss: 0.8511 - val_wine_type_loss: 0.0373 - val_wine_quality_root_mean_squared_error: 0.9226 - val_wine_type_accuracy: 0.9937\n",
            "Epoch 19/180\n",
            "99/99 [==============================] - 0s 2ms/step - loss: 0.7095 - wine_quality_loss: 0.6683 - wine_type_loss: 0.0412 - wine_quality_root_mean_squared_error: 0.8174 - wine_type_accuracy: 0.9925 - val_loss: 0.8472 - val_wine_quality_loss: 0.8118 - val_wine_type_loss: 0.0354 - val_wine_quality_root_mean_squared_error: 0.9010 - val_wine_type_accuracy: 0.9937\n",
            "Epoch 20/180\n",
            "99/99 [==============================] - 0s 2ms/step - loss: 0.7057 - wine_quality_loss: 0.6499 - wine_type_loss: 0.0558 - wine_quality_root_mean_squared_error: 0.8061 - wine_type_accuracy: 0.9903 - val_loss: 0.8110 - val_wine_quality_loss: 0.7771 - val_wine_type_loss: 0.0339 - val_wine_quality_root_mean_squared_error: 0.8815 - val_wine_type_accuracy: 0.9949\n",
            "Epoch 21/180\n",
            "99/99 [==============================] - 0s 2ms/step - loss: 0.6960 - wine_quality_loss: 0.6565 - wine_type_loss: 0.0395 - wine_quality_root_mean_squared_error: 0.8095 - wine_type_accuracy: 0.9931 - val_loss: 0.7801 - val_wine_quality_loss: 0.7476 - val_wine_type_loss: 0.0325 - val_wine_quality_root_mean_squared_error: 0.8647 - val_wine_type_accuracy: 0.9949\n",
            "Epoch 22/180\n",
            "99/99 [==============================] - 0s 2ms/step - loss: 0.6328 - wine_quality_loss: 0.5909 - wine_type_loss: 0.0419 - wine_quality_root_mean_squared_error: 0.7687 - wine_type_accuracy: 0.9936 - val_loss: 0.7426 - val_wine_quality_loss: 0.7113 - val_wine_type_loss: 0.0312 - val_wine_quality_root_mean_squared_error: 0.8434 - val_wine_type_accuracy: 0.9949\n",
            "Epoch 23/180\n",
            "99/99 [==============================] - 0s 2ms/step - loss: 0.5892 - wine_quality_loss: 0.5523 - wine_type_loss: 0.0369 - wine_quality_root_mean_squared_error: 0.7428 - wine_type_accuracy: 0.9942 - val_loss: 0.7052 - val_wine_quality_loss: 0.6750 - val_wine_type_loss: 0.0302 - val_wine_quality_root_mean_squared_error: 0.8216 - val_wine_type_accuracy: 0.9949\n",
            "Epoch 24/180\n",
            "99/99 [==============================] - 0s 2ms/step - loss: 0.5743 - wine_quality_loss: 0.5350 - wine_type_loss: 0.0393 - wine_quality_root_mean_squared_error: 0.7313 - wine_type_accuracy: 0.9937 - val_loss: 0.6742 - val_wine_quality_loss: 0.6450 - val_wine_type_loss: 0.0292 - val_wine_quality_root_mean_squared_error: 0.8031 - val_wine_type_accuracy: 0.9949\n",
            "Epoch 25/180\n",
            "99/99 [==============================] - 0s 2ms/step - loss: 0.5566 - wine_quality_loss: 0.5153 - wine_type_loss: 0.0414 - wine_quality_root_mean_squared_error: 0.7176 - wine_type_accuracy: 0.9925 - val_loss: 0.6506 - val_wine_quality_loss: 0.6222 - val_wine_type_loss: 0.0284 - val_wine_quality_root_mean_squared_error: 0.7888 - val_wine_type_accuracy: 0.9949\n",
            "Epoch 26/180\n",
            "99/99 [==============================] - 0s 2ms/step - loss: 0.5317 - wine_quality_loss: 0.4965 - wine_type_loss: 0.0351 - wine_quality_root_mean_squared_error: 0.7046 - wine_type_accuracy: 0.9934 - val_loss: 0.6172 - val_wine_quality_loss: 0.5896 - val_wine_type_loss: 0.0276 - val_wine_quality_root_mean_squared_error: 0.7679 - val_wine_type_accuracy: 0.9937\n",
            "Epoch 27/180\n",
            "99/99 [==============================] - 0s 2ms/step - loss: 0.4996 - wine_quality_loss: 0.4742 - wine_type_loss: 0.0255 - wine_quality_root_mean_squared_error: 0.6885 - wine_type_accuracy: 0.9942 - val_loss: 0.5970 - val_wine_quality_loss: 0.5699 - val_wine_type_loss: 0.0270 - val_wine_quality_root_mean_squared_error: 0.7549 - val_wine_type_accuracy: 0.9937\n",
            "Epoch 28/180\n",
            "99/99 [==============================] - 0s 2ms/step - loss: 0.5013 - wine_quality_loss: 0.4683 - wine_type_loss: 0.0329 - wine_quality_root_mean_squared_error: 0.6843 - wine_type_accuracy: 0.9939 - val_loss: 0.5702 - val_wine_quality_loss: 0.5437 - val_wine_type_loss: 0.0265 - val_wine_quality_root_mean_squared_error: 0.7374 - val_wine_type_accuracy: 0.9937\n",
            "Epoch 29/180\n",
            "99/99 [==============================] - 0s 2ms/step - loss: 0.4903 - wine_quality_loss: 0.4564 - wine_type_loss: 0.0340 - wine_quality_root_mean_squared_error: 0.6755 - wine_type_accuracy: 0.9911 - val_loss: 0.5496 - val_wine_quality_loss: 0.5236 - val_wine_type_loss: 0.0260 - val_wine_quality_root_mean_squared_error: 0.7236 - val_wine_type_accuracy: 0.9937\n",
            "Epoch 30/180\n",
            "99/99 [==============================] - 0s 2ms/step - loss: 0.4667 - wine_quality_loss: 0.4448 - wine_type_loss: 0.0219 - wine_quality_root_mean_squared_error: 0.6667 - wine_type_accuracy: 0.9964 - val_loss: 0.5322 - val_wine_quality_loss: 0.5067 - val_wine_type_loss: 0.0256 - val_wine_quality_root_mean_squared_error: 0.7118 - val_wine_type_accuracy: 0.9937\n",
            "Epoch 31/180\n",
            "99/99 [==============================] - 0s 2ms/step - loss: 0.4599 - wine_quality_loss: 0.4267 - wine_type_loss: 0.0331 - wine_quality_root_mean_squared_error: 0.6531 - wine_type_accuracy: 0.9938 - val_loss: 0.5228 - val_wine_quality_loss: 0.4977 - val_wine_type_loss: 0.0251 - val_wine_quality_root_mean_squared_error: 0.7055 - val_wine_type_accuracy: 0.9937\n",
            "Epoch 32/180\n",
            "99/99 [==============================] - 0s 2ms/step - loss: 0.4514 - wine_quality_loss: 0.4169 - wine_type_loss: 0.0344 - wine_quality_root_mean_squared_error: 0.6454 - wine_type_accuracy: 0.9910 - val_loss: 0.5201 - val_wine_quality_loss: 0.4955 - val_wine_type_loss: 0.0246 - val_wine_quality_root_mean_squared_error: 0.7039 - val_wine_type_accuracy: 0.9937\n",
            "Epoch 33/180\n",
            "99/99 [==============================] - 0s 2ms/step - loss: 0.4385 - wine_quality_loss: 0.4078 - wine_type_loss: 0.0307 - wine_quality_root_mean_squared_error: 0.6385 - wine_type_accuracy: 0.9952 - val_loss: 0.5011 - val_wine_quality_loss: 0.4767 - val_wine_type_loss: 0.0244 - val_wine_quality_root_mean_squared_error: 0.6904 - val_wine_type_accuracy: 0.9937\n",
            "Epoch 34/180\n",
            "99/99 [==============================] - 0s 2ms/step - loss: 0.4447 - wine_quality_loss: 0.4150 - wine_type_loss: 0.0297 - wine_quality_root_mean_squared_error: 0.6429 - wine_type_accuracy: 0.9926 - val_loss: 0.4824 - val_wine_quality_loss: 0.4582 - val_wine_type_loss: 0.0241 - val_wine_quality_root_mean_squared_error: 0.6769 - val_wine_type_accuracy: 0.9937\n",
            "Epoch 35/180\n",
            "99/99 [==============================] - 0s 2ms/step - loss: 0.4297 - wine_quality_loss: 0.3977 - wine_type_loss: 0.0320 - wine_quality_root_mean_squared_error: 0.6306 - wine_type_accuracy: 0.9929 - val_loss: 0.4721 - val_wine_quality_loss: 0.4483 - val_wine_type_loss: 0.0238 - val_wine_quality_root_mean_squared_error: 0.6695 - val_wine_type_accuracy: 0.9937\n",
            "Epoch 36/180\n",
            "99/99 [==============================] - 0s 2ms/step - loss: 0.4249 - wine_quality_loss: 0.3896 - wine_type_loss: 0.0353 - wine_quality_root_mean_squared_error: 0.6240 - wine_type_accuracy: 0.9955 - val_loss: 0.4614 - val_wine_quality_loss: 0.4379 - val_wine_type_loss: 0.0235 - val_wine_quality_root_mean_squared_error: 0.6617 - val_wine_type_accuracy: 0.9937\n",
            "Epoch 37/180\n",
            "99/99 [==============================] - 0s 2ms/step - loss: 0.4180 - wine_quality_loss: 0.3782 - wine_type_loss: 0.0397 - wine_quality_root_mean_squared_error: 0.6149 - wine_type_accuracy: 0.9909 - val_loss: 0.4560 - val_wine_quality_loss: 0.4329 - val_wine_type_loss: 0.0232 - val_wine_quality_root_mean_squared_error: 0.6579 - val_wine_type_accuracy: 0.9937\n",
            "Epoch 38/180\n",
            "99/99 [==============================] - 0s 2ms/step - loss: 0.3976 - wine_quality_loss: 0.3617 - wine_type_loss: 0.0359 - wine_quality_root_mean_squared_error: 0.6013 - wine_type_accuracy: 0.9929 - val_loss: 0.4494 - val_wine_quality_loss: 0.4264 - val_wine_type_loss: 0.0230 - val_wine_quality_root_mean_squared_error: 0.6530 - val_wine_type_accuracy: 0.9937\n",
            "Epoch 39/180\n",
            "99/99 [==============================] - 0s 2ms/step - loss: 0.3871 - wine_quality_loss: 0.3524 - wine_type_loss: 0.0348 - wine_quality_root_mean_squared_error: 0.5935 - wine_type_accuracy: 0.9918 - val_loss: 0.4425 - val_wine_quality_loss: 0.4195 - val_wine_type_loss: 0.0230 - val_wine_quality_root_mean_squared_error: 0.6477 - val_wine_type_accuracy: 0.9937\n",
            "Epoch 40/180\n",
            "99/99 [==============================] - 0s 2ms/step - loss: 0.3853 - wine_quality_loss: 0.3497 - wine_type_loss: 0.0357 - wine_quality_root_mean_squared_error: 0.5911 - wine_type_accuracy: 0.9942 - val_loss: 0.4354 - val_wine_quality_loss: 0.4127 - val_wine_type_loss: 0.0227 - val_wine_quality_root_mean_squared_error: 0.6424 - val_wine_type_accuracy: 0.9937\n",
            "Epoch 41/180\n",
            "99/99 [==============================] - 0s 2ms/step - loss: 0.3658 - wine_quality_loss: 0.3461 - wine_type_loss: 0.0197 - wine_quality_root_mean_squared_error: 0.5882 - wine_type_accuracy: 0.9970 - val_loss: 0.4327 - val_wine_quality_loss: 0.4102 - val_wine_type_loss: 0.0225 - val_wine_quality_root_mean_squared_error: 0.6405 - val_wine_type_accuracy: 0.9937\n",
            "Epoch 42/180\n",
            "99/99 [==============================] - 0s 2ms/step - loss: 0.3725 - wine_quality_loss: 0.3491 - wine_type_loss: 0.0234 - wine_quality_root_mean_squared_error: 0.5906 - wine_type_accuracy: 0.9958 - val_loss: 0.4319 - val_wine_quality_loss: 0.4095 - val_wine_type_loss: 0.0224 - val_wine_quality_root_mean_squared_error: 0.6399 - val_wine_type_accuracy: 0.9937\n",
            "Epoch 43/180\n",
            "99/99 [==============================] - 0s 3ms/step - loss: 0.3713 - wine_quality_loss: 0.3452 - wine_type_loss: 0.0261 - wine_quality_root_mean_squared_error: 0.5875 - wine_type_accuracy: 0.9959 - val_loss: 0.4280 - val_wine_quality_loss: 0.4056 - val_wine_type_loss: 0.0224 - val_wine_quality_root_mean_squared_error: 0.6368 - val_wine_type_accuracy: 0.9924\n",
            "Epoch 44/180\n",
            "99/99 [==============================] - 0s 4ms/step - loss: 0.3699 - wine_quality_loss: 0.3384 - wine_type_loss: 0.0315 - wine_quality_root_mean_squared_error: 0.5817 - wine_type_accuracy: 0.9947 - val_loss: 0.4204 - val_wine_quality_loss: 0.3982 - val_wine_type_loss: 0.0223 - val_wine_quality_root_mean_squared_error: 0.6310 - val_wine_type_accuracy: 0.9924\n",
            "Epoch 45/180\n",
            "99/99 [==============================] - 0s 4ms/step - loss: 0.3546 - wine_quality_loss: 0.3309 - wine_type_loss: 0.0237 - wine_quality_root_mean_squared_error: 0.5751 - wine_type_accuracy: 0.9958 - val_loss: 0.4125 - val_wine_quality_loss: 0.3903 - val_wine_type_loss: 0.0222 - val_wine_quality_root_mean_squared_error: 0.6247 - val_wine_type_accuracy: 0.9924\n",
            "Epoch 46/180\n",
            "99/99 [==============================] - 0s 4ms/step - loss: 0.3531 - wine_quality_loss: 0.3359 - wine_type_loss: 0.0173 - wine_quality_root_mean_squared_error: 0.5794 - wine_type_accuracy: 0.9960 - val_loss: 0.4147 - val_wine_quality_loss: 0.3925 - val_wine_type_loss: 0.0222 - val_wine_quality_root_mean_squared_error: 0.6265 - val_wine_type_accuracy: 0.9924\n",
            "Epoch 47/180\n",
            "99/99 [==============================] - 0s 4ms/step - loss: 0.3446 - wine_quality_loss: 0.3200 - wine_type_loss: 0.0246 - wine_quality_root_mean_squared_error: 0.5656 - wine_type_accuracy: 0.9964 - val_loss: 0.4119 - val_wine_quality_loss: 0.3898 - val_wine_type_loss: 0.0221 - val_wine_quality_root_mean_squared_error: 0.6243 - val_wine_type_accuracy: 0.9924\n",
            "Epoch 48/180\n",
            "99/99 [==============================] - 1s 5ms/step - loss: 0.3366 - wine_quality_loss: 0.3170 - wine_type_loss: 0.0196 - wine_quality_root_mean_squared_error: 0.5630 - wine_type_accuracy: 0.9967 - val_loss: 0.4123 - val_wine_quality_loss: 0.3903 - val_wine_type_loss: 0.0220 - val_wine_quality_root_mean_squared_error: 0.6247 - val_wine_type_accuracy: 0.9924\n",
            "Epoch 49/180\n",
            "99/99 [==============================] - 0s 4ms/step - loss: 0.3725 - wine_quality_loss: 0.3393 - wine_type_loss: 0.0332 - wine_quality_root_mean_squared_error: 0.5822 - wine_type_accuracy: 0.9936 - val_loss: 0.3998 - val_wine_quality_loss: 0.3777 - val_wine_type_loss: 0.0221 - val_wine_quality_root_mean_squared_error: 0.6146 - val_wine_type_accuracy: 0.9924\n",
            "Epoch 50/180\n",
            "99/99 [==============================] - 0s 4ms/step - loss: 0.3432 - wine_quality_loss: 0.3185 - wine_type_loss: 0.0246 - wine_quality_root_mean_squared_error: 0.5643 - wine_type_accuracy: 0.9966 - val_loss: 0.4025 - val_wine_quality_loss: 0.3804 - val_wine_type_loss: 0.0221 - val_wine_quality_root_mean_squared_error: 0.6168 - val_wine_type_accuracy: 0.9924\n",
            "Epoch 51/180\n",
            "99/99 [==============================] - 0s 4ms/step - loss: 0.3411 - wine_quality_loss: 0.3118 - wine_type_loss: 0.0293 - wine_quality_root_mean_squared_error: 0.5581 - wine_type_accuracy: 0.9952 - val_loss: 0.3997 - val_wine_quality_loss: 0.3776 - val_wine_type_loss: 0.0221 - val_wine_quality_root_mean_squared_error: 0.6145 - val_wine_type_accuracy: 0.9924\n",
            "Epoch 52/180\n",
            "99/99 [==============================] - 0s 5ms/step - loss: 0.3508 - wine_quality_loss: 0.3222 - wine_type_loss: 0.0286 - wine_quality_root_mean_squared_error: 0.5676 - wine_type_accuracy: 0.9946 - val_loss: 0.4050 - val_wine_quality_loss: 0.3826 - val_wine_type_loss: 0.0223 - val_wine_quality_root_mean_squared_error: 0.6186 - val_wine_type_accuracy: 0.9924\n",
            "Epoch 53/180\n",
            "99/99 [==============================] - 0s 4ms/step - loss: 0.3474 - wine_quality_loss: 0.3200 - wine_type_loss: 0.0274 - wine_quality_root_mean_squared_error: 0.5655 - wine_type_accuracy: 0.9949 - val_loss: 0.3951 - val_wine_quality_loss: 0.3729 - val_wine_type_loss: 0.0222 - val_wine_quality_root_mean_squared_error: 0.6107 - val_wine_type_accuracy: 0.9924\n",
            "Epoch 54/180\n",
            "99/99 [==============================] - 0s 4ms/step - loss: 0.3589 - wine_quality_loss: 0.3330 - wine_type_loss: 0.0258 - wine_quality_root_mean_squared_error: 0.5769 - wine_type_accuracy: 0.9945 - val_loss: 0.3944 - val_wine_quality_loss: 0.3725 - val_wine_type_loss: 0.0219 - val_wine_quality_root_mean_squared_error: 0.6103 - val_wine_type_accuracy: 0.9924\n",
            "Epoch 55/180\n",
            "99/99 [==============================] - 0s 3ms/step - loss: 0.3399 - wine_quality_loss: 0.3126 - wine_type_loss: 0.0273 - wine_quality_root_mean_squared_error: 0.5590 - wine_type_accuracy: 0.9957 - val_loss: 0.3952 - val_wine_quality_loss: 0.3732 - val_wine_type_loss: 0.0220 - val_wine_quality_root_mean_squared_error: 0.6109 - val_wine_type_accuracy: 0.9924\n",
            "Epoch 56/180\n",
            "99/99 [==============================] - 0s 4ms/step - loss: 0.3349 - wine_quality_loss: 0.3121 - wine_type_loss: 0.0228 - wine_quality_root_mean_squared_error: 0.5586 - wine_type_accuracy: 0.9951 - val_loss: 0.3958 - val_wine_quality_loss: 0.3739 - val_wine_type_loss: 0.0219 - val_wine_quality_root_mean_squared_error: 0.6115 - val_wine_type_accuracy: 0.9924\n",
            "Epoch 57/180\n",
            "99/99 [==============================] - 0s 4ms/step - loss: 0.3277 - wine_quality_loss: 0.3020 - wine_type_loss: 0.0257 - wine_quality_root_mean_squared_error: 0.5495 - wine_type_accuracy: 0.9960 - val_loss: 0.3958 - val_wine_quality_loss: 0.3737 - val_wine_type_loss: 0.0222 - val_wine_quality_root_mean_squared_error: 0.6113 - val_wine_type_accuracy: 0.9924\n",
            "Epoch 58/180\n",
            "99/99 [==============================] - 0s 4ms/step - loss: 0.3383 - wine_quality_loss: 0.3182 - wine_type_loss: 0.0201 - wine_quality_root_mean_squared_error: 0.5639 - wine_type_accuracy: 0.9957 - val_loss: 0.3916 - val_wine_quality_loss: 0.3692 - val_wine_type_loss: 0.0224 - val_wine_quality_root_mean_squared_error: 0.6076 - val_wine_type_accuracy: 0.9924\n",
            "Epoch 59/180\n",
            "99/99 [==============================] - 0s 4ms/step - loss: 0.3283 - wine_quality_loss: 0.3091 - wine_type_loss: 0.0191 - wine_quality_root_mean_squared_error: 0.5560 - wine_type_accuracy: 0.9962 - val_loss: 0.3902 - val_wine_quality_loss: 0.3679 - val_wine_type_loss: 0.0224 - val_wine_quality_root_mean_squared_error: 0.6065 - val_wine_type_accuracy: 0.9924\n",
            "Epoch 60/180\n",
            "99/99 [==============================] - 0s 4ms/step - loss: 0.3262 - wine_quality_loss: 0.3024 - wine_type_loss: 0.0238 - wine_quality_root_mean_squared_error: 0.5498 - wine_type_accuracy: 0.9967 - val_loss: 0.3971 - val_wine_quality_loss: 0.3748 - val_wine_type_loss: 0.0224 - val_wine_quality_root_mean_squared_error: 0.6122 - val_wine_type_accuracy: 0.9924\n",
            "Epoch 61/180\n",
            "99/99 [==============================] - 0s 4ms/step - loss: 0.3427 - wine_quality_loss: 0.3180 - wine_type_loss: 0.0247 - wine_quality_root_mean_squared_error: 0.5636 - wine_type_accuracy: 0.9952 - val_loss: 0.4008 - val_wine_quality_loss: 0.3782 - val_wine_type_loss: 0.0225 - val_wine_quality_root_mean_squared_error: 0.6150 - val_wine_type_accuracy: 0.9924\n",
            "Epoch 62/180\n",
            "99/99 [==============================] - 0s 4ms/step - loss: 0.3299 - wine_quality_loss: 0.3045 - wine_type_loss: 0.0255 - wine_quality_root_mean_squared_error: 0.5518 - wine_type_accuracy: 0.9960 - val_loss: 0.3907 - val_wine_quality_loss: 0.3683 - val_wine_type_loss: 0.0224 - val_wine_quality_root_mean_squared_error: 0.6069 - val_wine_type_accuracy: 0.9924\n",
            "Epoch 63/180\n",
            "99/99 [==============================] - 0s 3ms/step - loss: 0.3244 - wine_quality_loss: 0.3042 - wine_type_loss: 0.0202 - wine_quality_root_mean_squared_error: 0.5515 - wine_type_accuracy: 0.9978 - val_loss: 0.3888 - val_wine_quality_loss: 0.3666 - val_wine_type_loss: 0.0222 - val_wine_quality_root_mean_squared_error: 0.6055 - val_wine_type_accuracy: 0.9924\n",
            "Epoch 64/180\n",
            "99/99 [==============================] - 0s 4ms/step - loss: 0.3169 - wine_quality_loss: 0.2967 - wine_type_loss: 0.0202 - wine_quality_root_mean_squared_error: 0.5445 - wine_type_accuracy: 0.9967 - val_loss: 0.3854 - val_wine_quality_loss: 0.3632 - val_wine_type_loss: 0.0222 - val_wine_quality_root_mean_squared_error: 0.6026 - val_wine_type_accuracy: 0.9924\n",
            "Epoch 65/180\n",
            "99/99 [==============================] - 0s 4ms/step - loss: 0.3177 - wine_quality_loss: 0.3018 - wine_type_loss: 0.0159 - wine_quality_root_mean_squared_error: 0.5490 - wine_type_accuracy: 0.9986 - val_loss: 0.3871 - val_wine_quality_loss: 0.3647 - val_wine_type_loss: 0.0224 - val_wine_quality_root_mean_squared_error: 0.6039 - val_wine_type_accuracy: 0.9924\n",
            "Epoch 66/180\n",
            "99/99 [==============================] - 0s 4ms/step - loss: 0.3239 - wine_quality_loss: 0.3029 - wine_type_loss: 0.0211 - wine_quality_root_mean_squared_error: 0.5503 - wine_type_accuracy: 0.9967 - val_loss: 0.3905 - val_wine_quality_loss: 0.3682 - val_wine_type_loss: 0.0223 - val_wine_quality_root_mean_squared_error: 0.6068 - val_wine_type_accuracy: 0.9924\n",
            "Epoch 67/180\n",
            "99/99 [==============================] - 0s 5ms/step - loss: 0.3200 - wine_quality_loss: 0.2952 - wine_type_loss: 0.0248 - wine_quality_root_mean_squared_error: 0.5433 - wine_type_accuracy: 0.9965 - val_loss: 0.3885 - val_wine_quality_loss: 0.3662 - val_wine_type_loss: 0.0223 - val_wine_quality_root_mean_squared_error: 0.6051 - val_wine_type_accuracy: 0.9924\n",
            "Epoch 68/180\n",
            "99/99 [==============================] - 0s 4ms/step - loss: 0.3325 - wine_quality_loss: 0.2998 - wine_type_loss: 0.0327 - wine_quality_root_mean_squared_error: 0.5475 - wine_type_accuracy: 0.9953 - val_loss: 0.3863 - val_wine_quality_loss: 0.3641 - val_wine_type_loss: 0.0223 - val_wine_quality_root_mean_squared_error: 0.6034 - val_wine_type_accuracy: 0.9924\n",
            "Epoch 69/180\n",
            "99/99 [==============================] - 0s 5ms/step - loss: 0.3107 - wine_quality_loss: 0.2967 - wine_type_loss: 0.0140 - wine_quality_root_mean_squared_error: 0.5447 - wine_type_accuracy: 0.9980 - val_loss: 0.3859 - val_wine_quality_loss: 0.3634 - val_wine_type_loss: 0.0225 - val_wine_quality_root_mean_squared_error: 0.6029 - val_wine_type_accuracy: 0.9924\n",
            "Epoch 70/180\n",
            "99/99 [==============================] - 0s 4ms/step - loss: 0.3207 - wine_quality_loss: 0.2984 - wine_type_loss: 0.0223 - wine_quality_root_mean_squared_error: 0.5459 - wine_type_accuracy: 0.9969 - val_loss: 0.3855 - val_wine_quality_loss: 0.3625 - val_wine_type_loss: 0.0230 - val_wine_quality_root_mean_squared_error: 0.6021 - val_wine_type_accuracy: 0.9924\n",
            "Epoch 71/180\n",
            "99/99 [==============================] - 0s 4ms/step - loss: 0.3312 - wine_quality_loss: 0.3034 - wine_type_loss: 0.0278 - wine_quality_root_mean_squared_error: 0.5507 - wine_type_accuracy: 0.9963 - val_loss: 0.3985 - val_wine_quality_loss: 0.3758 - val_wine_type_loss: 0.0227 - val_wine_quality_root_mean_squared_error: 0.6130 - val_wine_type_accuracy: 0.9924\n",
            "Epoch 72/180\n",
            "99/99 [==============================] - 0s 4ms/step - loss: 0.3142 - wine_quality_loss: 0.2970 - wine_type_loss: 0.0172 - wine_quality_root_mean_squared_error: 0.5449 - wine_type_accuracy: 0.9976 - val_loss: 0.3869 - val_wine_quality_loss: 0.3638 - val_wine_type_loss: 0.0231 - val_wine_quality_root_mean_squared_error: 0.6031 - val_wine_type_accuracy: 0.9924\n",
            "Epoch 73/180\n",
            "99/99 [==============================] - 0s 4ms/step - loss: 0.3137 - wine_quality_loss: 0.2890 - wine_type_loss: 0.0247 - wine_quality_root_mean_squared_error: 0.5374 - wine_type_accuracy: 0.9968 - val_loss: 0.3872 - val_wine_quality_loss: 0.3645 - val_wine_type_loss: 0.0227 - val_wine_quality_root_mean_squared_error: 0.6037 - val_wine_type_accuracy: 0.9924\n",
            "Epoch 74/180\n",
            "99/99 [==============================] - 0s 4ms/step - loss: 0.3187 - wine_quality_loss: 0.2926 - wine_type_loss: 0.0261 - wine_quality_root_mean_squared_error: 0.5408 - wine_type_accuracy: 0.9953 - val_loss: 0.3933 - val_wine_quality_loss: 0.3702 - val_wine_type_loss: 0.0231 - val_wine_quality_root_mean_squared_error: 0.6085 - val_wine_type_accuracy: 0.9924\n",
            "Epoch 75/180\n",
            "99/99 [==============================] - 0s 2ms/step - loss: 0.3087 - wine_quality_loss: 0.2927 - wine_type_loss: 0.0160 - wine_quality_root_mean_squared_error: 0.5406 - wine_type_accuracy: 0.9979 - val_loss: 0.3888 - val_wine_quality_loss: 0.3654 - val_wine_type_loss: 0.0234 - val_wine_quality_root_mean_squared_error: 0.6045 - val_wine_type_accuracy: 0.9924\n",
            "Epoch 76/180\n",
            "99/99 [==============================] - 0s 2ms/step - loss: 0.3064 - wine_quality_loss: 0.2888 - wine_type_loss: 0.0176 - wine_quality_root_mean_squared_error: 0.5372 - wine_type_accuracy: 0.9977 - val_loss: 0.3869 - val_wine_quality_loss: 0.3632 - val_wine_type_loss: 0.0236 - val_wine_quality_root_mean_squared_error: 0.6027 - val_wine_type_accuracy: 0.9924\n",
            "Epoch 77/180\n",
            "99/99 [==============================] - 0s 2ms/step - loss: 0.3102 - wine_quality_loss: 0.2941 - wine_type_loss: 0.0161 - wine_quality_root_mean_squared_error: 0.5421 - wine_type_accuracy: 0.9972 - val_loss: 0.3826 - val_wine_quality_loss: 0.3591 - val_wine_type_loss: 0.0235 - val_wine_quality_root_mean_squared_error: 0.5993 - val_wine_type_accuracy: 0.9924\n",
            "Epoch 78/180\n",
            "99/99 [==============================] - 0s 2ms/step - loss: 0.3010 - wine_quality_loss: 0.2834 - wine_type_loss: 0.0176 - wine_quality_root_mean_squared_error: 0.5323 - wine_type_accuracy: 0.9978 - val_loss: 0.3896 - val_wine_quality_loss: 0.3660 - val_wine_type_loss: 0.0237 - val_wine_quality_root_mean_squared_error: 0.6049 - val_wine_type_accuracy: 0.9924\n",
            "Epoch 79/180\n",
            "99/99 [==============================] - 0s 2ms/step - loss: 0.3082 - wine_quality_loss: 0.2847 - wine_type_loss: 0.0234 - wine_quality_root_mean_squared_error: 0.5330 - wine_type_accuracy: 0.9974 - val_loss: 0.3905 - val_wine_quality_loss: 0.3669 - val_wine_type_loss: 0.0236 - val_wine_quality_root_mean_squared_error: 0.6057 - val_wine_type_accuracy: 0.9924\n",
            "Epoch 80/180\n",
            "99/99 [==============================] - 0s 2ms/step - loss: 0.2985 - wine_quality_loss: 0.2695 - wine_type_loss: 0.0290 - wine_quality_root_mean_squared_error: 0.5188 - wine_type_accuracy: 0.9951 - val_loss: 0.3888 - val_wine_quality_loss: 0.3653 - val_wine_type_loss: 0.0235 - val_wine_quality_root_mean_squared_error: 0.6044 - val_wine_type_accuracy: 0.9924\n",
            "Epoch 81/180\n",
            "99/99 [==============================] - 0s 3ms/step - loss: 0.3041 - wine_quality_loss: 0.2818 - wine_type_loss: 0.0222 - wine_quality_root_mean_squared_error: 0.5308 - wine_type_accuracy: 0.9966 - val_loss: 0.3881 - val_wine_quality_loss: 0.3645 - val_wine_type_loss: 0.0237 - val_wine_quality_root_mean_squared_error: 0.6037 - val_wine_type_accuracy: 0.9924\n",
            "Epoch 82/180\n",
            "99/99 [==============================] - 0s 2ms/step - loss: 0.3154 - wine_quality_loss: 0.2876 - wine_type_loss: 0.0277 - wine_quality_root_mean_squared_error: 0.5362 - wine_type_accuracy: 0.9964 - val_loss: 0.3876 - val_wine_quality_loss: 0.3638 - val_wine_type_loss: 0.0238 - val_wine_quality_root_mean_squared_error: 0.6031 - val_wine_type_accuracy: 0.9924\n",
            "Epoch 83/180\n",
            "99/99 [==============================] - 0s 2ms/step - loss: 0.3259 - wine_quality_loss: 0.2997 - wine_type_loss: 0.0262 - wine_quality_root_mean_squared_error: 0.5472 - wine_type_accuracy: 0.9970 - val_loss: 0.3896 - val_wine_quality_loss: 0.3659 - val_wine_type_loss: 0.0237 - val_wine_quality_root_mean_squared_error: 0.6049 - val_wine_type_accuracy: 0.9924\n",
            "Epoch 84/180\n",
            "99/99 [==============================] - 0s 2ms/step - loss: 0.2990 - wine_quality_loss: 0.2800 - wine_type_loss: 0.0190 - wine_quality_root_mean_squared_error: 0.5291 - wine_type_accuracy: 0.9978 - val_loss: 0.3879 - val_wine_quality_loss: 0.3641 - val_wine_type_loss: 0.0239 - val_wine_quality_root_mean_squared_error: 0.6034 - val_wine_type_accuracy: 0.9924\n",
            "Epoch 85/180\n",
            "99/99 [==============================] - 0s 2ms/step - loss: 0.3017 - wine_quality_loss: 0.2822 - wine_type_loss: 0.0194 - wine_quality_root_mean_squared_error: 0.5310 - wine_type_accuracy: 0.9967 - val_loss: 0.3916 - val_wine_quality_loss: 0.3675 - val_wine_type_loss: 0.0241 - val_wine_quality_root_mean_squared_error: 0.6062 - val_wine_type_accuracy: 0.9911\n",
            "Epoch 86/180\n",
            "99/99 [==============================] - 0s 2ms/step - loss: 0.3063 - wine_quality_loss: 0.2844 - wine_type_loss: 0.0219 - wine_quality_root_mean_squared_error: 0.5333 - wine_type_accuracy: 0.9977 - val_loss: 0.3950 - val_wine_quality_loss: 0.3707 - val_wine_type_loss: 0.0243 - val_wine_quality_root_mean_squared_error: 0.6089 - val_wine_type_accuracy: 0.9911\n",
            "Epoch 87/180\n",
            "99/99 [==============================] - 0s 2ms/step - loss: 0.3020 - wine_quality_loss: 0.2823 - wine_type_loss: 0.0197 - wine_quality_root_mean_squared_error: 0.5312 - wine_type_accuracy: 0.9977 - val_loss: 0.3884 - val_wine_quality_loss: 0.3641 - val_wine_type_loss: 0.0243 - val_wine_quality_root_mean_squared_error: 0.6034 - val_wine_type_accuracy: 0.9911\n",
            "Epoch 88/180\n",
            "99/99 [==============================] - 0s 2ms/step - loss: 0.3059 - wine_quality_loss: 0.2790 - wine_type_loss: 0.0269 - wine_quality_root_mean_squared_error: 0.5281 - wine_type_accuracy: 0.9960 - val_loss: 0.3843 - val_wine_quality_loss: 0.3602 - val_wine_type_loss: 0.0241 - val_wine_quality_root_mean_squared_error: 0.6002 - val_wine_type_accuracy: 0.9911\n",
            "Epoch 89/180\n",
            "99/99 [==============================] - 0s 2ms/step - loss: 0.2945 - wine_quality_loss: 0.2791 - wine_type_loss: 0.0153 - wine_quality_root_mean_squared_error: 0.5283 - wine_type_accuracy: 0.9974 - val_loss: 0.3902 - val_wine_quality_loss: 0.3656 - val_wine_type_loss: 0.0246 - val_wine_quality_root_mean_squared_error: 0.6047 - val_wine_type_accuracy: 0.9911\n",
            "Epoch 90/180\n",
            "99/99 [==============================] - 0s 2ms/step - loss: 0.3020 - wine_quality_loss: 0.2773 - wine_type_loss: 0.0247 - wine_quality_root_mean_squared_error: 0.5264 - wine_type_accuracy: 0.9963 - val_loss: 0.3871 - val_wine_quality_loss: 0.3623 - val_wine_type_loss: 0.0248 - val_wine_quality_root_mean_squared_error: 0.6019 - val_wine_type_accuracy: 0.9911\n",
            "Epoch 91/180\n",
            "99/99 [==============================] - 0s 3ms/step - loss: 0.3061 - wine_quality_loss: 0.2834 - wine_type_loss: 0.0227 - wine_quality_root_mean_squared_error: 0.5322 - wine_type_accuracy: 0.9962 - val_loss: 0.3947 - val_wine_quality_loss: 0.3700 - val_wine_type_loss: 0.0247 - val_wine_quality_root_mean_squared_error: 0.6083 - val_wine_type_accuracy: 0.9911\n",
            "Epoch 92/180\n",
            "99/99 [==============================] - 0s 2ms/step - loss: 0.2975 - wine_quality_loss: 0.2829 - wine_type_loss: 0.0146 - wine_quality_root_mean_squared_error: 0.5318 - wine_type_accuracy: 0.9980 - val_loss: 0.3884 - val_wine_quality_loss: 0.3636 - val_wine_type_loss: 0.0248 - val_wine_quality_root_mean_squared_error: 0.6030 - val_wine_type_accuracy: 0.9911\n",
            "Epoch 93/180\n",
            "99/99 [==============================] - 0s 2ms/step - loss: 0.2978 - wine_quality_loss: 0.2774 - wine_type_loss: 0.0204 - wine_quality_root_mean_squared_error: 0.5267 - wine_type_accuracy: 0.9975 - val_loss: 0.3847 - val_wine_quality_loss: 0.3601 - val_wine_type_loss: 0.0247 - val_wine_quality_root_mean_squared_error: 0.6001 - val_wine_type_accuracy: 0.9911\n",
            "Epoch 94/180\n",
            "99/99 [==============================] - 0s 2ms/step - loss: 0.3044 - wine_quality_loss: 0.2851 - wine_type_loss: 0.0193 - wine_quality_root_mean_squared_error: 0.5339 - wine_type_accuracy: 0.9972 - val_loss: 0.4022 - val_wine_quality_loss: 0.3773 - val_wine_type_loss: 0.0249 - val_wine_quality_root_mean_squared_error: 0.6143 - val_wine_type_accuracy: 0.9911\n",
            "Epoch 95/180\n",
            "99/99 [==============================] - 0s 3ms/step - loss: 0.3029 - wine_quality_loss: 0.2717 - wine_type_loss: 0.0311 - wine_quality_root_mean_squared_error: 0.5211 - wine_type_accuracy: 0.9962 - val_loss: 0.3885 - val_wine_quality_loss: 0.3633 - val_wine_type_loss: 0.0252 - val_wine_quality_root_mean_squared_error: 0.6027 - val_wine_type_accuracy: 0.9911\n",
            "Epoch 96/180\n",
            "99/99 [==============================] - 0s 2ms/step - loss: 0.2843 - wine_quality_loss: 0.2677 - wine_type_loss: 0.0166 - wine_quality_root_mean_squared_error: 0.5172 - wine_type_accuracy: 0.9974 - val_loss: 0.3917 - val_wine_quality_loss: 0.3664 - val_wine_type_loss: 0.0253 - val_wine_quality_root_mean_squared_error: 0.6053 - val_wine_type_accuracy: 0.9911\n",
            "Epoch 97/180\n",
            "99/99 [==============================] - 0s 2ms/step - loss: 0.2960 - wine_quality_loss: 0.2796 - wine_type_loss: 0.0164 - wine_quality_root_mean_squared_error: 0.5287 - wine_type_accuracy: 0.9975 - val_loss: 0.4075 - val_wine_quality_loss: 0.3817 - val_wine_type_loss: 0.0257 - val_wine_quality_root_mean_squared_error: 0.6179 - val_wine_type_accuracy: 0.9911\n",
            "Epoch 98/180\n",
            "99/99 [==============================] - 0s 3ms/step - loss: 0.3028 - wine_quality_loss: 0.2831 - wine_type_loss: 0.0196 - wine_quality_root_mean_squared_error: 0.5320 - wine_type_accuracy: 0.9974 - val_loss: 0.3869 - val_wine_quality_loss: 0.3613 - val_wine_type_loss: 0.0255 - val_wine_quality_root_mean_squared_error: 0.6011 - val_wine_type_accuracy: 0.9911\n",
            "Epoch 99/180\n",
            "99/99 [==============================] - 0s 2ms/step - loss: 0.2952 - wine_quality_loss: 0.2750 - wine_type_loss: 0.0202 - wine_quality_root_mean_squared_error: 0.5243 - wine_type_accuracy: 0.9977 - val_loss: 0.3867 - val_wine_quality_loss: 0.3609 - val_wine_type_loss: 0.0258 - val_wine_quality_root_mean_squared_error: 0.6008 - val_wine_type_accuracy: 0.9911\n",
            "Epoch 100/180\n",
            "99/99 [==============================] - 0s 2ms/step - loss: 0.2885 - wine_quality_loss: 0.2728 - wine_type_loss: 0.0157 - wine_quality_root_mean_squared_error: 0.5222 - wine_type_accuracy: 0.9984 - val_loss: 0.3928 - val_wine_quality_loss: 0.3673 - val_wine_type_loss: 0.0256 - val_wine_quality_root_mean_squared_error: 0.6060 - val_wine_type_accuracy: 0.9911\n",
            "Epoch 101/180\n",
            "99/99 [==============================] - 0s 2ms/step - loss: 0.2959 - wine_quality_loss: 0.2763 - wine_type_loss: 0.0196 - wine_quality_root_mean_squared_error: 0.5253 - wine_type_accuracy: 0.9972 - val_loss: 0.3901 - val_wine_quality_loss: 0.3643 - val_wine_type_loss: 0.0257 - val_wine_quality_root_mean_squared_error: 0.6036 - val_wine_type_accuracy: 0.9911\n",
            "Epoch 102/180\n",
            "99/99 [==============================] - 0s 2ms/step - loss: 0.2928 - wine_quality_loss: 0.2817 - wine_type_loss: 0.0111 - wine_quality_root_mean_squared_error: 0.5307 - wine_type_accuracy: 0.9983 - val_loss: 0.3939 - val_wine_quality_loss: 0.3680 - val_wine_type_loss: 0.0259 - val_wine_quality_root_mean_squared_error: 0.6066 - val_wine_type_accuracy: 0.9911\n",
            "Epoch 103/180\n",
            "99/99 [==============================] - 0s 2ms/step - loss: 0.2909 - wine_quality_loss: 0.2713 - wine_type_loss: 0.0197 - wine_quality_root_mean_squared_error: 0.5206 - wine_type_accuracy: 0.9969 - val_loss: 0.3925 - val_wine_quality_loss: 0.3665 - val_wine_type_loss: 0.0260 - val_wine_quality_root_mean_squared_error: 0.6054 - val_wine_type_accuracy: 0.9911\n",
            "Epoch 104/180\n",
            "99/99 [==============================] - 0s 2ms/step - loss: 0.2836 - wine_quality_loss: 0.2638 - wine_type_loss: 0.0197 - wine_quality_root_mean_squared_error: 0.5133 - wine_type_accuracy: 0.9975 - val_loss: 0.3982 - val_wine_quality_loss: 0.3722 - val_wine_type_loss: 0.0261 - val_wine_quality_root_mean_squared_error: 0.6100 - val_wine_type_accuracy: 0.9911\n",
            "Epoch 105/180\n",
            "99/99 [==============================] - 0s 2ms/step - loss: 0.3044 - wine_quality_loss: 0.2798 - wine_type_loss: 0.0247 - wine_quality_root_mean_squared_error: 0.5288 - wine_type_accuracy: 0.9968 - val_loss: 0.3925 - val_wine_quality_loss: 0.3667 - val_wine_type_loss: 0.0258 - val_wine_quality_root_mean_squared_error: 0.6056 - val_wine_type_accuracy: 0.9911\n",
            "Epoch 106/180\n",
            "99/99 [==============================] - 0s 2ms/step - loss: 0.2842 - wine_quality_loss: 0.2652 - wine_type_loss: 0.0190 - wine_quality_root_mean_squared_error: 0.5149 - wine_type_accuracy: 0.9969 - val_loss: 0.3878 - val_wine_quality_loss: 0.3617 - val_wine_type_loss: 0.0261 - val_wine_quality_root_mean_squared_error: 0.6014 - val_wine_type_accuracy: 0.9911\n",
            "Epoch 107/180\n",
            "99/99 [==============================] - 0s 2ms/step - loss: 0.2970 - wine_quality_loss: 0.2743 - wine_type_loss: 0.0226 - wine_quality_root_mean_squared_error: 0.5237 - wine_type_accuracy: 0.9955 - val_loss: 0.3941 - val_wine_quality_loss: 0.3676 - val_wine_type_loss: 0.0265 - val_wine_quality_root_mean_squared_error: 0.6063 - val_wine_type_accuracy: 0.9911\n",
            "Epoch 108/180\n",
            "99/99 [==============================] - 0s 2ms/step - loss: 0.2832 - wine_quality_loss: 0.2683 - wine_type_loss: 0.0150 - wine_quality_root_mean_squared_error: 0.5179 - wine_type_accuracy: 0.9977 - val_loss: 0.3936 - val_wine_quality_loss: 0.3670 - val_wine_type_loss: 0.0266 - val_wine_quality_root_mean_squared_error: 0.6058 - val_wine_type_accuracy: 0.9911\n",
            "Epoch 109/180\n",
            "99/99 [==============================] - 0s 2ms/step - loss: 0.2793 - wine_quality_loss: 0.2613 - wine_type_loss: 0.0180 - wine_quality_root_mean_squared_error: 0.5110 - wine_type_accuracy: 0.9979 - val_loss: 0.3945 - val_wine_quality_loss: 0.3678 - val_wine_type_loss: 0.0267 - val_wine_quality_root_mean_squared_error: 0.6064 - val_wine_type_accuracy: 0.9911\n",
            "Epoch 110/180\n",
            "99/99 [==============================] - 0s 2ms/step - loss: 0.2761 - wine_quality_loss: 0.2661 - wine_type_loss: 0.0100 - wine_quality_root_mean_squared_error: 0.5156 - wine_type_accuracy: 0.9983 - val_loss: 0.4010 - val_wine_quality_loss: 0.3742 - val_wine_type_loss: 0.0267 - val_wine_quality_root_mean_squared_error: 0.6118 - val_wine_type_accuracy: 0.9911\n",
            "Epoch 111/180\n",
            "99/99 [==============================] - 0s 2ms/step - loss: 0.2913 - wine_quality_loss: 0.2704 - wine_type_loss: 0.0209 - wine_quality_root_mean_squared_error: 0.5199 - wine_type_accuracy: 0.9967 - val_loss: 0.3929 - val_wine_quality_loss: 0.3662 - val_wine_type_loss: 0.0268 - val_wine_quality_root_mean_squared_error: 0.6051 - val_wine_type_accuracy: 0.9911\n",
            "Epoch 112/180\n",
            "99/99 [==============================] - 0s 3ms/step - loss: 0.2914 - wine_quality_loss: 0.2734 - wine_type_loss: 0.0180 - wine_quality_root_mean_squared_error: 0.5228 - wine_type_accuracy: 0.9967 - val_loss: 0.3906 - val_wine_quality_loss: 0.3639 - val_wine_type_loss: 0.0267 - val_wine_quality_root_mean_squared_error: 0.6033 - val_wine_type_accuracy: 0.9911\n",
            "Epoch 113/180\n",
            "99/99 [==============================] - 0s 2ms/step - loss: 0.2861 - wine_quality_loss: 0.2616 - wine_type_loss: 0.0246 - wine_quality_root_mean_squared_error: 0.5112 - wine_type_accuracy: 0.9964 - val_loss: 0.3925 - val_wine_quality_loss: 0.3660 - val_wine_type_loss: 0.0266 - val_wine_quality_root_mean_squared_error: 0.6049 - val_wine_type_accuracy: 0.9911\n",
            "Epoch 114/180\n",
            "99/99 [==============================] - 0s 2ms/step - loss: 0.2921 - wine_quality_loss: 0.2753 - wine_type_loss: 0.0168 - wine_quality_root_mean_squared_error: 0.5246 - wine_type_accuracy: 0.9977 - val_loss: 0.3944 - val_wine_quality_loss: 0.3673 - val_wine_type_loss: 0.0270 - val_wine_quality_root_mean_squared_error: 0.6061 - val_wine_type_accuracy: 0.9911\n",
            "Epoch 115/180\n",
            "99/99 [==============================] - 0s 2ms/step - loss: 0.2824 - wine_quality_loss: 0.2627 - wine_type_loss: 0.0197 - wine_quality_root_mean_squared_error: 0.5124 - wine_type_accuracy: 0.9978 - val_loss: 0.3913 - val_wine_quality_loss: 0.3642 - val_wine_type_loss: 0.0271 - val_wine_quality_root_mean_squared_error: 0.6035 - val_wine_type_accuracy: 0.9911\n",
            "Epoch 116/180\n",
            "99/99 [==============================] - 0s 2ms/step - loss: 0.2864 - wine_quality_loss: 0.2656 - wine_type_loss: 0.0208 - wine_quality_root_mean_squared_error: 0.5153 - wine_type_accuracy: 0.9971 - val_loss: 0.3977 - val_wine_quality_loss: 0.3706 - val_wine_type_loss: 0.0271 - val_wine_quality_root_mean_squared_error: 0.6088 - val_wine_type_accuracy: 0.9911\n",
            "Epoch 117/180\n",
            "99/99 [==============================] - 0s 2ms/step - loss: 0.2808 - wine_quality_loss: 0.2705 - wine_type_loss: 0.0103 - wine_quality_root_mean_squared_error: 0.5200 - wine_type_accuracy: 0.9985 - val_loss: 0.3943 - val_wine_quality_loss: 0.3669 - val_wine_type_loss: 0.0274 - val_wine_quality_root_mean_squared_error: 0.6057 - val_wine_type_accuracy: 0.9911\n",
            "Epoch 118/180\n",
            "99/99 [==============================] - 0s 2ms/step - loss: 0.2845 - wine_quality_loss: 0.2667 - wine_type_loss: 0.0178 - wine_quality_root_mean_squared_error: 0.5164 - wine_type_accuracy: 0.9973 - val_loss: 0.3986 - val_wine_quality_loss: 0.3712 - val_wine_type_loss: 0.0274 - val_wine_quality_root_mean_squared_error: 0.6093 - val_wine_type_accuracy: 0.9911\n",
            "Epoch 119/180\n",
            "99/99 [==============================] - 0s 2ms/step - loss: 0.2934 - wine_quality_loss: 0.2762 - wine_type_loss: 0.0172 - wine_quality_root_mean_squared_error: 0.5255 - wine_type_accuracy: 0.9977 - val_loss: 0.4037 - val_wine_quality_loss: 0.3764 - val_wine_type_loss: 0.0273 - val_wine_quality_root_mean_squared_error: 0.6135 - val_wine_type_accuracy: 0.9911\n",
            "Epoch 120/180\n",
            "99/99 [==============================] - 0s 3ms/step - loss: 0.2745 - wine_quality_loss: 0.2618 - wine_type_loss: 0.0127 - wine_quality_root_mean_squared_error: 0.5114 - wine_type_accuracy: 0.9982 - val_loss: 0.4077 - val_wine_quality_loss: 0.3806 - val_wine_type_loss: 0.0272 - val_wine_quality_root_mean_squared_error: 0.6169 - val_wine_type_accuracy: 0.9911\n",
            "Epoch 121/180\n",
            "99/99 [==============================] - 0s 2ms/step - loss: 0.2963 - wine_quality_loss: 0.2701 - wine_type_loss: 0.0262 - wine_quality_root_mean_squared_error: 0.5196 - wine_type_accuracy: 0.9966 - val_loss: 0.3963 - val_wine_quality_loss: 0.3690 - val_wine_type_loss: 0.0273 - val_wine_quality_root_mean_squared_error: 0.6075 - val_wine_type_accuracy: 0.9911\n",
            "Epoch 122/180\n",
            "99/99 [==============================] - 0s 2ms/step - loss: 0.2739 - wine_quality_loss: 0.2616 - wine_type_loss: 0.0123 - wine_quality_root_mean_squared_error: 0.5113 - wine_type_accuracy: 0.9986 - val_loss: 0.4078 - val_wine_quality_loss: 0.3804 - val_wine_type_loss: 0.0274 - val_wine_quality_root_mean_squared_error: 0.6168 - val_wine_type_accuracy: 0.9911\n",
            "Epoch 123/180\n",
            "99/99 [==============================] - 0s 2ms/step - loss: 0.2920 - wine_quality_loss: 0.2725 - wine_type_loss: 0.0195 - wine_quality_root_mean_squared_error: 0.5220 - wine_type_accuracy: 0.9971 - val_loss: 0.3941 - val_wine_quality_loss: 0.3668 - val_wine_type_loss: 0.0273 - val_wine_quality_root_mean_squared_error: 0.6056 - val_wine_type_accuracy: 0.9911\n",
            "Epoch 124/180\n",
            "99/99 [==============================] - 0s 2ms/step - loss: 0.2829 - wine_quality_loss: 0.2674 - wine_type_loss: 0.0155 - wine_quality_root_mean_squared_error: 0.5171 - wine_type_accuracy: 0.9974 - val_loss: 0.3962 - val_wine_quality_loss: 0.3687 - val_wine_type_loss: 0.0275 - val_wine_quality_root_mean_squared_error: 0.6072 - val_wine_type_accuracy: 0.9911\n",
            "Epoch 125/180\n",
            "99/99 [==============================] - 0s 2ms/step - loss: 0.2827 - wine_quality_loss: 0.2586 - wine_type_loss: 0.0241 - wine_quality_root_mean_squared_error: 0.5085 - wine_type_accuracy: 0.9946 - val_loss: 0.3951 - val_wine_quality_loss: 0.3673 - val_wine_type_loss: 0.0278 - val_wine_quality_root_mean_squared_error: 0.6060 - val_wine_type_accuracy: 0.9911\n",
            "Epoch 126/180\n",
            "99/99 [==============================] - 0s 2ms/step - loss: 0.2937 - wine_quality_loss: 0.2747 - wine_type_loss: 0.0190 - wine_quality_root_mean_squared_error: 0.5239 - wine_type_accuracy: 0.9974 - val_loss: 0.3952 - val_wine_quality_loss: 0.3674 - val_wine_type_loss: 0.0278 - val_wine_quality_root_mean_squared_error: 0.6062 - val_wine_type_accuracy: 0.9911\n",
            "Epoch 127/180\n",
            "99/99 [==============================] - 0s 2ms/step - loss: 0.2841 - wine_quality_loss: 0.2642 - wine_type_loss: 0.0199 - wine_quality_root_mean_squared_error: 0.5139 - wine_type_accuracy: 0.9972 - val_loss: 0.3958 - val_wine_quality_loss: 0.3680 - val_wine_type_loss: 0.0278 - val_wine_quality_root_mean_squared_error: 0.6066 - val_wine_type_accuracy: 0.9911\n",
            "Epoch 128/180\n",
            "99/99 [==============================] - 0s 2ms/step - loss: 0.2820 - wine_quality_loss: 0.2617 - wine_type_loss: 0.0203 - wine_quality_root_mean_squared_error: 0.5115 - wine_type_accuracy: 0.9969 - val_loss: 0.3987 - val_wine_quality_loss: 0.3708 - val_wine_type_loss: 0.0279 - val_wine_quality_root_mean_squared_error: 0.6090 - val_wine_type_accuracy: 0.9911\n",
            "Epoch 129/180\n",
            "99/99 [==============================] - 0s 2ms/step - loss: 0.2783 - wine_quality_loss: 0.2601 - wine_type_loss: 0.0182 - wine_quality_root_mean_squared_error: 0.5099 - wine_type_accuracy: 0.9967 - val_loss: 0.4019 - val_wine_quality_loss: 0.3737 - val_wine_type_loss: 0.0282 - val_wine_quality_root_mean_squared_error: 0.6113 - val_wine_type_accuracy: 0.9911\n",
            "Epoch 130/180\n",
            "99/99 [==============================] - 0s 2ms/step - loss: 0.2713 - wine_quality_loss: 0.2579 - wine_type_loss: 0.0134 - wine_quality_root_mean_squared_error: 0.5076 - wine_type_accuracy: 0.9970 - val_loss: 0.3948 - val_wine_quality_loss: 0.3667 - val_wine_type_loss: 0.0281 - val_wine_quality_root_mean_squared_error: 0.6056 - val_wine_type_accuracy: 0.9911\n",
            "Epoch 131/180\n",
            "99/99 [==============================] - 0s 2ms/step - loss: 0.2819 - wine_quality_loss: 0.2575 - wine_type_loss: 0.0244 - wine_quality_root_mean_squared_error: 0.5073 - wine_type_accuracy: 0.9962 - val_loss: 0.3997 - val_wine_quality_loss: 0.3717 - val_wine_type_loss: 0.0280 - val_wine_quality_root_mean_squared_error: 0.6097 - val_wine_type_accuracy: 0.9911\n",
            "Epoch 132/180\n",
            "99/99 [==============================] - 0s 2ms/step - loss: 0.2807 - wine_quality_loss: 0.2637 - wine_type_loss: 0.0170 - wine_quality_root_mean_squared_error: 0.5135 - wine_type_accuracy: 0.9977 - val_loss: 0.3960 - val_wine_quality_loss: 0.3678 - val_wine_type_loss: 0.0282 - val_wine_quality_root_mean_squared_error: 0.6065 - val_wine_type_accuracy: 0.9911\n",
            "Epoch 133/180\n",
            "99/99 [==============================] - 0s 2ms/step - loss: 0.2731 - wine_quality_loss: 0.2598 - wine_type_loss: 0.0132 - wine_quality_root_mean_squared_error: 0.5097 - wine_type_accuracy: 0.9981 - val_loss: 0.4033 - val_wine_quality_loss: 0.3748 - val_wine_type_loss: 0.0284 - val_wine_quality_root_mean_squared_error: 0.6122 - val_wine_type_accuracy: 0.9911\n",
            "Epoch 134/180\n",
            "99/99 [==============================] - 0s 2ms/step - loss: 0.2856 - wine_quality_loss: 0.2596 - wine_type_loss: 0.0260 - wine_quality_root_mean_squared_error: 0.5094 - wine_type_accuracy: 0.9960 - val_loss: 0.4098 - val_wine_quality_loss: 0.3816 - val_wine_type_loss: 0.0282 - val_wine_quality_root_mean_squared_error: 0.6177 - val_wine_type_accuracy: 0.9911\n",
            "Epoch 135/180\n",
            "99/99 [==============================] - 0s 4ms/step - loss: 0.2583 - wine_quality_loss: 0.2500 - wine_type_loss: 0.0083 - wine_quality_root_mean_squared_error: 0.4997 - wine_type_accuracy: 0.9992 - val_loss: 0.3942 - val_wine_quality_loss: 0.3659 - val_wine_type_loss: 0.0283 - val_wine_quality_root_mean_squared_error: 0.6049 - val_wine_type_accuracy: 0.9911\n",
            "Epoch 136/180\n",
            "99/99 [==============================] - 0s 2ms/step - loss: 0.2882 - wine_quality_loss: 0.2648 - wine_type_loss: 0.0234 - wine_quality_root_mean_squared_error: 0.5145 - wine_type_accuracy: 0.9955 - val_loss: 0.3939 - val_wine_quality_loss: 0.3653 - val_wine_type_loss: 0.0285 - val_wine_quality_root_mean_squared_error: 0.6044 - val_wine_type_accuracy: 0.9911\n",
            "Epoch 137/180\n",
            "99/99 [==============================] - 0s 2ms/step - loss: 0.2793 - wine_quality_loss: 0.2690 - wine_type_loss: 0.0103 - wine_quality_root_mean_squared_error: 0.5186 - wine_type_accuracy: 0.9985 - val_loss: 0.3955 - val_wine_quality_loss: 0.3667 - val_wine_type_loss: 0.0288 - val_wine_quality_root_mean_squared_error: 0.6055 - val_wine_type_accuracy: 0.9911\n",
            "Epoch 138/180\n",
            "99/99 [==============================] - 0s 2ms/step - loss: 0.2741 - wine_quality_loss: 0.2605 - wine_type_loss: 0.0136 - wine_quality_root_mean_squared_error: 0.5103 - wine_type_accuracy: 0.9978 - val_loss: 0.3936 - val_wine_quality_loss: 0.3650 - val_wine_type_loss: 0.0287 - val_wine_quality_root_mean_squared_error: 0.6041 - val_wine_type_accuracy: 0.9911\n",
            "Epoch 139/180\n",
            "99/99 [==============================] - 0s 2ms/step - loss: 0.2692 - wine_quality_loss: 0.2595 - wine_type_loss: 0.0097 - wine_quality_root_mean_squared_error: 0.5092 - wine_type_accuracy: 0.9983 - val_loss: 0.4045 - val_wine_quality_loss: 0.3757 - val_wine_type_loss: 0.0288 - val_wine_quality_root_mean_squared_error: 0.6130 - val_wine_type_accuracy: 0.9911\n",
            "Epoch 140/180\n",
            "99/99 [==============================] - 0s 2ms/step - loss: 0.2763 - wine_quality_loss: 0.2606 - wine_type_loss: 0.0157 - wine_quality_root_mean_squared_error: 0.5105 - wine_type_accuracy: 0.9974 - val_loss: 0.4033 - val_wine_quality_loss: 0.3743 - val_wine_type_loss: 0.0290 - val_wine_quality_root_mean_squared_error: 0.6118 - val_wine_type_accuracy: 0.9911\n",
            "Epoch 141/180\n",
            "99/99 [==============================] - 0s 3ms/step - loss: 0.2766 - wine_quality_loss: 0.2609 - wine_type_loss: 0.0156 - wine_quality_root_mean_squared_error: 0.5108 - wine_type_accuracy: 0.9969 - val_loss: 0.4011 - val_wine_quality_loss: 0.3720 - val_wine_type_loss: 0.0291 - val_wine_quality_root_mean_squared_error: 0.6099 - val_wine_type_accuracy: 0.9911\n",
            "Epoch 142/180\n",
            "99/99 [==============================] - 0s 2ms/step - loss: 0.2766 - wine_quality_loss: 0.2633 - wine_type_loss: 0.0133 - wine_quality_root_mean_squared_error: 0.5130 - wine_type_accuracy: 0.9980 - val_loss: 0.4020 - val_wine_quality_loss: 0.3729 - val_wine_type_loss: 0.0291 - val_wine_quality_root_mean_squared_error: 0.6107 - val_wine_type_accuracy: 0.9911\n",
            "Epoch 143/180\n",
            "99/99 [==============================] - 0s 2ms/step - loss: 0.2837 - wine_quality_loss: 0.2543 - wine_type_loss: 0.0294 - wine_quality_root_mean_squared_error: 0.5040 - wine_type_accuracy: 0.9960 - val_loss: 0.4046 - val_wine_quality_loss: 0.3756 - val_wine_type_loss: 0.0291 - val_wine_quality_root_mean_squared_error: 0.6128 - val_wine_type_accuracy: 0.9911\n",
            "Epoch 144/180\n",
            "99/99 [==============================] - 0s 2ms/step - loss: 0.2545 - wine_quality_loss: 0.2444 - wine_type_loss: 0.0102 - wine_quality_root_mean_squared_error: 0.4942 - wine_type_accuracy: 0.9988 - val_loss: 0.4014 - val_wine_quality_loss: 0.3723 - val_wine_type_loss: 0.0291 - val_wine_quality_root_mean_squared_error: 0.6102 - val_wine_type_accuracy: 0.9911\n",
            "Epoch 145/180\n",
            "99/99 [==============================] - 0s 3ms/step - loss: 0.2869 - wine_quality_loss: 0.2569 - wine_type_loss: 0.0301 - wine_quality_root_mean_squared_error: 0.5067 - wine_type_accuracy: 0.9954 - val_loss: 0.3980 - val_wine_quality_loss: 0.3691 - val_wine_type_loss: 0.0290 - val_wine_quality_root_mean_squared_error: 0.6075 - val_wine_type_accuracy: 0.9911\n",
            "Epoch 146/180\n",
            "99/99 [==============================] - 0s 2ms/step - loss: 0.2813 - wine_quality_loss: 0.2490 - wine_type_loss: 0.0324 - wine_quality_root_mean_squared_error: 0.4988 - wine_type_accuracy: 0.9954 - val_loss: 0.3981 - val_wine_quality_loss: 0.3691 - val_wine_type_loss: 0.0290 - val_wine_quality_root_mean_squared_error: 0.6076 - val_wine_type_accuracy: 0.9911\n",
            "Epoch 147/180\n",
            "99/99 [==============================] - 0s 2ms/step - loss: 0.2832 - wine_quality_loss: 0.2599 - wine_type_loss: 0.0234 - wine_quality_root_mean_squared_error: 0.5097 - wine_type_accuracy: 0.9968 - val_loss: 0.3986 - val_wine_quality_loss: 0.3694 - val_wine_type_loss: 0.0291 - val_wine_quality_root_mean_squared_error: 0.6078 - val_wine_type_accuracy: 0.9911\n",
            "Epoch 148/180\n",
            "99/99 [==============================] - 0s 2ms/step - loss: 0.2679 - wine_quality_loss: 0.2562 - wine_type_loss: 0.0117 - wine_quality_root_mean_squared_error: 0.5061 - wine_type_accuracy: 0.9982 - val_loss: 0.3993 - val_wine_quality_loss: 0.3698 - val_wine_type_loss: 0.0294 - val_wine_quality_root_mean_squared_error: 0.6082 - val_wine_type_accuracy: 0.9911\n",
            "Epoch 149/180\n",
            "99/99 [==============================] - 0s 3ms/step - loss: 0.2737 - wine_quality_loss: 0.2570 - wine_type_loss: 0.0167 - wine_quality_root_mean_squared_error: 0.5069 - wine_type_accuracy: 0.9976 - val_loss: 0.3955 - val_wine_quality_loss: 0.3658 - val_wine_type_loss: 0.0297 - val_wine_quality_root_mean_squared_error: 0.6048 - val_wine_type_accuracy: 0.9911\n",
            "Epoch 150/180\n",
            "99/99 [==============================] - 0s 3ms/step - loss: 0.2742 - wine_quality_loss: 0.2592 - wine_type_loss: 0.0150 - wine_quality_root_mean_squared_error: 0.5091 - wine_type_accuracy: 0.9980 - val_loss: 0.4022 - val_wine_quality_loss: 0.3725 - val_wine_type_loss: 0.0297 - val_wine_quality_root_mean_squared_error: 0.6103 - val_wine_type_accuracy: 0.9911\n",
            "Epoch 151/180\n",
            "99/99 [==============================] - 0s 2ms/step - loss: 0.2822 - wine_quality_loss: 0.2634 - wine_type_loss: 0.0188 - wine_quality_root_mean_squared_error: 0.5131 - wine_type_accuracy: 0.9972 - val_loss: 0.4016 - val_wine_quality_loss: 0.3719 - val_wine_type_loss: 0.0297 - val_wine_quality_root_mean_squared_error: 0.6098 - val_wine_type_accuracy: 0.9911\n",
            "Epoch 152/180\n",
            "99/99 [==============================] - 0s 2ms/step - loss: 0.2744 - wine_quality_loss: 0.2561 - wine_type_loss: 0.0183 - wine_quality_root_mean_squared_error: 0.5060 - wine_type_accuracy: 0.9971 - val_loss: 0.4072 - val_wine_quality_loss: 0.3771 - val_wine_type_loss: 0.0300 - val_wine_quality_root_mean_squared_error: 0.6141 - val_wine_type_accuracy: 0.9911\n",
            "Epoch 153/180\n",
            "99/99 [==============================] - 0s 3ms/step - loss: 0.2634 - wine_quality_loss: 0.2475 - wine_type_loss: 0.0158 - wine_quality_root_mean_squared_error: 0.4975 - wine_type_accuracy: 0.9979 - val_loss: 0.4068 - val_wine_quality_loss: 0.3764 - val_wine_type_loss: 0.0304 - val_wine_quality_root_mean_squared_error: 0.6135 - val_wine_type_accuracy: 0.9911\n",
            "Epoch 154/180\n",
            "99/99 [==============================] - 0s 4ms/step - loss: 0.2696 - wine_quality_loss: 0.2575 - wine_type_loss: 0.0120 - wine_quality_root_mean_squared_error: 0.5073 - wine_type_accuracy: 0.9978 - val_loss: 0.3994 - val_wine_quality_loss: 0.3689 - val_wine_type_loss: 0.0304 - val_wine_quality_root_mean_squared_error: 0.6074 - val_wine_type_accuracy: 0.9911\n",
            "Epoch 155/180\n",
            "99/99 [==============================] - 0s 3ms/step - loss: 0.2731 - wine_quality_loss: 0.2475 - wine_type_loss: 0.0256 - wine_quality_root_mean_squared_error: 0.4973 - wine_type_accuracy: 0.9953 - val_loss: 0.3980 - val_wine_quality_loss: 0.3680 - val_wine_type_loss: 0.0299 - val_wine_quality_root_mean_squared_error: 0.6067 - val_wine_type_accuracy: 0.9911\n",
            "Epoch 156/180\n",
            "99/99 [==============================] - 0s 3ms/step - loss: 0.2657 - wine_quality_loss: 0.2495 - wine_type_loss: 0.0163 - wine_quality_root_mean_squared_error: 0.4994 - wine_type_accuracy: 0.9976 - val_loss: 0.4049 - val_wine_quality_loss: 0.3747 - val_wine_type_loss: 0.0303 - val_wine_quality_root_mean_squared_error: 0.6121 - val_wine_type_accuracy: 0.9911\n",
            "Epoch 157/180\n",
            "99/99 [==============================] - 0s 4ms/step - loss: 0.2636 - wine_quality_loss: 0.2485 - wine_type_loss: 0.0150 - wine_quality_root_mean_squared_error: 0.4985 - wine_type_accuracy: 0.9968 - val_loss: 0.3997 - val_wine_quality_loss: 0.3693 - val_wine_type_loss: 0.0304 - val_wine_quality_root_mean_squared_error: 0.6077 - val_wine_type_accuracy: 0.9911\n",
            "Epoch 158/180\n",
            "99/99 [==============================] - 0s 3ms/step - loss: 0.2648 - wine_quality_loss: 0.2508 - wine_type_loss: 0.0140 - wine_quality_root_mean_squared_error: 0.5007 - wine_type_accuracy: 0.9978 - val_loss: 0.4020 - val_wine_quality_loss: 0.3713 - val_wine_type_loss: 0.0306 - val_wine_quality_root_mean_squared_error: 0.6094 - val_wine_type_accuracy: 0.9911\n",
            "Epoch 159/180\n",
            "99/99 [==============================] - 0s 3ms/step - loss: 0.2691 - wine_quality_loss: 0.2511 - wine_type_loss: 0.0180 - wine_quality_root_mean_squared_error: 0.5010 - wine_type_accuracy: 0.9970 - val_loss: 0.4140 - val_wine_quality_loss: 0.3835 - val_wine_type_loss: 0.0306 - val_wine_quality_root_mean_squared_error: 0.6193 - val_wine_type_accuracy: 0.9911\n",
            "Epoch 160/180\n",
            "99/99 [==============================] - 0s 3ms/step - loss: 0.2651 - wine_quality_loss: 0.2500 - wine_type_loss: 0.0151 - wine_quality_root_mean_squared_error: 0.4999 - wine_type_accuracy: 0.9976 - val_loss: 0.4148 - val_wine_quality_loss: 0.3841 - val_wine_type_loss: 0.0307 - val_wine_quality_root_mean_squared_error: 0.6198 - val_wine_type_accuracy: 0.9911\n",
            "Epoch 161/180\n",
            "99/99 [==============================] - 0s 2ms/step - loss: 0.2680 - wine_quality_loss: 0.2530 - wine_type_loss: 0.0149 - wine_quality_root_mean_squared_error: 0.5029 - wine_type_accuracy: 0.9972 - val_loss: 0.4102 - val_wine_quality_loss: 0.3795 - val_wine_type_loss: 0.0307 - val_wine_quality_root_mean_squared_error: 0.6161 - val_wine_type_accuracy: 0.9911\n",
            "Epoch 162/180\n",
            "99/99 [==============================] - 0s 2ms/step - loss: 0.2635 - wine_quality_loss: 0.2509 - wine_type_loss: 0.0126 - wine_quality_root_mean_squared_error: 0.5008 - wine_type_accuracy: 0.9981 - val_loss: 0.4136 - val_wine_quality_loss: 0.3827 - val_wine_type_loss: 0.0309 - val_wine_quality_root_mean_squared_error: 0.6186 - val_wine_type_accuracy: 0.9911\n",
            "Epoch 163/180\n",
            "99/99 [==============================] - 0s 2ms/step - loss: 0.2553 - wine_quality_loss: 0.2464 - wine_type_loss: 0.0089 - wine_quality_root_mean_squared_error: 0.4964 - wine_type_accuracy: 0.9990 - val_loss: 0.4075 - val_wine_quality_loss: 0.3762 - val_wine_type_loss: 0.0312 - val_wine_quality_root_mean_squared_error: 0.6134 - val_wine_type_accuracy: 0.9911\n",
            "Epoch 164/180\n",
            "99/99 [==============================] - 0s 3ms/step - loss: 0.2829 - wine_quality_loss: 0.2606 - wine_type_loss: 0.0223 - wine_quality_root_mean_squared_error: 0.5104 - wine_type_accuracy: 0.9960 - val_loss: 0.4003 - val_wine_quality_loss: 0.3693 - val_wine_type_loss: 0.0310 - val_wine_quality_root_mean_squared_error: 0.6077 - val_wine_type_accuracy: 0.9911\n",
            "Epoch 165/180\n",
            "99/99 [==============================] - 0s 2ms/step - loss: 0.2672 - wine_quality_loss: 0.2551 - wine_type_loss: 0.0121 - wine_quality_root_mean_squared_error: 0.5048 - wine_type_accuracy: 0.9980 - val_loss: 0.4090 - val_wine_quality_loss: 0.3780 - val_wine_type_loss: 0.0310 - val_wine_quality_root_mean_squared_error: 0.6148 - val_wine_type_accuracy: 0.9911\n",
            "Epoch 166/180\n",
            "99/99 [==============================] - 0s 3ms/step - loss: 0.2685 - wine_quality_loss: 0.2530 - wine_type_loss: 0.0154 - wine_quality_root_mean_squared_error: 0.5030 - wine_type_accuracy: 0.9971 - val_loss: 0.4007 - val_wine_quality_loss: 0.3697 - val_wine_type_loss: 0.0310 - val_wine_quality_root_mean_squared_error: 0.6080 - val_wine_type_accuracy: 0.9911\n",
            "Epoch 167/180\n",
            "99/99 [==============================] - 0s 2ms/step - loss: 0.2617 - wine_quality_loss: 0.2487 - wine_type_loss: 0.0130 - wine_quality_root_mean_squared_error: 0.4987 - wine_type_accuracy: 0.9976 - val_loss: 0.4062 - val_wine_quality_loss: 0.3748 - val_wine_type_loss: 0.0314 - val_wine_quality_root_mean_squared_error: 0.6122 - val_wine_type_accuracy: 0.9911\n",
            "Epoch 168/180\n",
            "99/99 [==============================] - 0s 2ms/step - loss: 0.2656 - wine_quality_loss: 0.2505 - wine_type_loss: 0.0151 - wine_quality_root_mean_squared_error: 0.5005 - wine_type_accuracy: 0.9971 - val_loss: 0.4088 - val_wine_quality_loss: 0.3772 - val_wine_type_loss: 0.0316 - val_wine_quality_root_mean_squared_error: 0.6142 - val_wine_type_accuracy: 0.9911\n",
            "Epoch 169/180\n",
            "99/99 [==============================] - 0s 2ms/step - loss: 0.2598 - wine_quality_loss: 0.2468 - wine_type_loss: 0.0130 - wine_quality_root_mean_squared_error: 0.4964 - wine_type_accuracy: 0.9976 - val_loss: 0.4049 - val_wine_quality_loss: 0.3732 - val_wine_type_loss: 0.0318 - val_wine_quality_root_mean_squared_error: 0.6109 - val_wine_type_accuracy: 0.9911\n",
            "Epoch 170/180\n",
            "99/99 [==============================] - 0s 2ms/step - loss: 0.2708 - wine_quality_loss: 0.2533 - wine_type_loss: 0.0175 - wine_quality_root_mean_squared_error: 0.5031 - wine_type_accuracy: 0.9970 - val_loss: 0.4067 - val_wine_quality_loss: 0.3753 - val_wine_type_loss: 0.0314 - val_wine_quality_root_mean_squared_error: 0.6126 - val_wine_type_accuracy: 0.9911\n",
            "Epoch 171/180\n",
            "99/99 [==============================] - 0s 3ms/step - loss: 0.2688 - wine_quality_loss: 0.2524 - wine_type_loss: 0.0164 - wine_quality_root_mean_squared_error: 0.5023 - wine_type_accuracy: 0.9972 - val_loss: 0.4061 - val_wine_quality_loss: 0.3744 - val_wine_type_loss: 0.0318 - val_wine_quality_root_mean_squared_error: 0.6118 - val_wine_type_accuracy: 0.9911\n",
            "Epoch 172/180\n",
            "99/99 [==============================] - 0s 3ms/step - loss: 0.2580 - wine_quality_loss: 0.2446 - wine_type_loss: 0.0133 - wine_quality_root_mean_squared_error: 0.4945 - wine_type_accuracy: 0.9977 - val_loss: 0.4077 - val_wine_quality_loss: 0.3760 - val_wine_type_loss: 0.0317 - val_wine_quality_root_mean_squared_error: 0.6132 - val_wine_type_accuracy: 0.9911\n",
            "Epoch 173/180\n",
            "99/99 [==============================] - 0s 2ms/step - loss: 0.2448 - wine_quality_loss: 0.2327 - wine_type_loss: 0.0121 - wine_quality_root_mean_squared_error: 0.4816 - wine_type_accuracy: 0.9977 - val_loss: 0.4058 - val_wine_quality_loss: 0.3737 - val_wine_type_loss: 0.0321 - val_wine_quality_root_mean_squared_error: 0.6113 - val_wine_type_accuracy: 0.9911\n",
            "Epoch 174/180\n",
            "99/99 [==============================] - 0s 2ms/step - loss: 0.2592 - wine_quality_loss: 0.2473 - wine_type_loss: 0.0118 - wine_quality_root_mean_squared_error: 0.4973 - wine_type_accuracy: 0.9980 - val_loss: 0.4099 - val_wine_quality_loss: 0.3777 - val_wine_type_loss: 0.0322 - val_wine_quality_root_mean_squared_error: 0.6146 - val_wine_type_accuracy: 0.9911\n",
            "Epoch 175/180\n",
            "99/99 [==============================] - 0s 3ms/step - loss: 0.2550 - wine_quality_loss: 0.2430 - wine_type_loss: 0.0119 - wine_quality_root_mean_squared_error: 0.4928 - wine_type_accuracy: 0.9979 - val_loss: 0.4081 - val_wine_quality_loss: 0.3760 - val_wine_type_loss: 0.0321 - val_wine_quality_root_mean_squared_error: 0.6132 - val_wine_type_accuracy: 0.9911\n",
            "Epoch 176/180\n",
            "99/99 [==============================] - 0s 3ms/step - loss: 0.2633 - wine_quality_loss: 0.2475 - wine_type_loss: 0.0158 - wine_quality_root_mean_squared_error: 0.4974 - wine_type_accuracy: 0.9970 - val_loss: 0.4134 - val_wine_quality_loss: 0.3810 - val_wine_type_loss: 0.0324 - val_wine_quality_root_mean_squared_error: 0.6172 - val_wine_type_accuracy: 0.9911\n",
            "Epoch 177/180\n",
            "99/99 [==============================] - 0s 3ms/step - loss: 0.2628 - wine_quality_loss: 0.2471 - wine_type_loss: 0.0157 - wine_quality_root_mean_squared_error: 0.4970 - wine_type_accuracy: 0.9970 - val_loss: 0.4005 - val_wine_quality_loss: 0.3682 - val_wine_type_loss: 0.0323 - val_wine_quality_root_mean_squared_error: 0.6068 - val_wine_type_accuracy: 0.9911\n",
            "Epoch 178/180\n",
            "99/99 [==============================] - 0s 4ms/step - loss: 0.2568 - wine_quality_loss: 0.2420 - wine_type_loss: 0.0147 - wine_quality_root_mean_squared_error: 0.4918 - wine_type_accuracy: 0.9978 - val_loss: 0.4147 - val_wine_quality_loss: 0.3820 - val_wine_type_loss: 0.0327 - val_wine_quality_root_mean_squared_error: 0.6181 - val_wine_type_accuracy: 0.9911\n",
            "Epoch 179/180\n",
            "99/99 [==============================] - 0s 2ms/step - loss: 0.2665 - wine_quality_loss: 0.2450 - wine_type_loss: 0.0215 - wine_quality_root_mean_squared_error: 0.4949 - wine_type_accuracy: 0.9964 - val_loss: 0.4055 - val_wine_quality_loss: 0.3730 - val_wine_type_loss: 0.0325 - val_wine_quality_root_mean_squared_error: 0.6108 - val_wine_type_accuracy: 0.9911\n",
            "Epoch 180/180\n",
            "99/99 [==============================] - 0s 2ms/step - loss: 0.2632 - wine_quality_loss: 0.2519 - wine_type_loss: 0.0113 - wine_quality_root_mean_squared_error: 0.5018 - wine_type_accuracy: 0.9981 - val_loss: 0.4076 - val_wine_quality_loss: 0.3751 - val_wine_type_loss: 0.0325 - val_wine_quality_root_mean_squared_error: 0.6124 - val_wine_type_accuracy: 0.9911\n"
          ],
          "name": "stdout"
        }
      ]
    },
    {
      "cell_type": "code",
      "metadata": {
        "colab": {
          "base_uri": "https://localhost:8080/"
        },
        "id": "nMDLM8nxOYSH",
        "outputId": "b49a0f86-d122-434f-c992-d7a566114307"
      },
      "source": [
        "loss, wine_quality_loss, wine_type_loss, wine_quality_rmse, wine_type_accuracy = model.evaluate(x=norm_val_X, y=val_Y)\n",
        "\n",
        "print()\n",
        "print(f'loss: {loss}')\n",
        "print(f'wine_quality_loss: {wine_quality_loss}')\n",
        "print(f'wine_type_loss: {wine_type_loss}')\n",
        "print(f'wine_quality_rmse: {wine_quality_rmse}')\n",
        "print(f'wine_type_accuracy: {wine_type_accuracy}')\n",
        "\n"
      ],
      "execution_count": 31,
      "outputs": [
        {
          "output_type": "stream",
          "text": [
            "25/25 [==============================] - 0s 1ms/step - loss: 0.4076 - wine_quality_loss: 0.3751 - wine_type_loss: 0.0325 - wine_quality_root_mean_squared_error: 0.6124 - wine_type_accuracy: 0.9911\n",
            "\n",
            "loss: 0.40760502219200134\n",
            "wine_quality_loss: 0.3750899136066437\n",
            "wine_type_loss: 0.032515041530132294\n",
            "wine_quality_rmse: 0.6124458312988281\n",
            "wine_type_accuracy: 0.9911280274391174\n"
          ],
          "name": "stdout"
        }
      ]
    },
    {
      "cell_type": "code",
      "metadata": {
        "id": "TQKyKhOFOdb2"
      },
      "source": [
        "predictions = model.predict(norm_test_X)\n",
        "quality_pred = predictions[0]\n",
        "type_pred = predictions[1]"
      ],
      "execution_count": 32,
      "outputs": []
    },
    {
      "cell_type": "code",
      "metadata": {
        "colab": {
          "base_uri": "https://localhost:8080/"
        },
        "id": "AVdvEtZdOgbz",
        "outputId": "3b6954ea-7e0c-4689-c962-f40a4f432c17"
      },
      "source": [
        "print(quality_pred[0])\n",
        "\n"
      ],
      "execution_count": 33,
      "outputs": [
        {
          "output_type": "stream",
          "text": [
            "[6.130107]\n"
          ],
          "name": "stdout"
        }
      ]
    },
    {
      "cell_type": "code",
      "metadata": {
        "colab": {
          "base_uri": "https://localhost:8080/"
        },
        "id": "yeOUJCHlOiR3",
        "outputId": "42791cc3-aa81-4da0-8d2f-3dcef04a2060"
      },
      "source": [
        "print(type_pred[0])\n",
        "print(type_pred[944])\n"
      ],
      "execution_count": 34,
      "outputs": [
        {
          "output_type": "stream",
          "text": [
            "[0.9999989]\n",
            "[0.9995911]\n"
          ],
          "name": "stdout"
        }
      ]
    },
    {
      "cell_type": "code",
      "metadata": {
        "id": "xEhfbCihOlVU"
      },
      "source": [
        "def plot_metrics(metric_name, title, ylim=5):\n",
        "    plt.title(title)\n",
        "    plt.ylim(0,ylim)\n",
        "    plt.plot(history.history[metric_name],color='blue',label=metric_name)\n",
        "    plt.plot(history.history['val_' + metric_name],color='green',label='val_' + metric_name)\n",
        "\n"
      ],
      "execution_count": 35,
      "outputs": []
    },
    {
      "cell_type": "code",
      "metadata": {
        "id": "IPVv_rAcOn7-"
      },
      "source": [
        "def plot_confusion_matrix(y_true, y_pred, title='', labels=[0,1]):\n",
        "    cm = confusion_matrix(y_true, y_pred)\n",
        "    fig = plt.figure()\n",
        "    ax = fig.add_subplot(111)\n",
        "    cax = ax.matshow(cm)\n",
        "    plt.title('Confusion matrix of the classifier')\n",
        "    fig.colorbar(cax)\n",
        "    ax.set_xticklabels([''] + labels)\n",
        "    ax.set_yticklabels([''] + labels)\n",
        "    plt.xlabel('Predicted')\n",
        "    plt.ylabel('True')\n",
        "    fmt = 'd'\n",
        "    thresh = cm.max() / 2.\n",
        "    for i, j in itertools.product(range(cm.shape[0]), range(cm.shape[1])):\n",
        "          plt.text(j, i, format(cm[i, j], fmt),\n",
        "                  horizontalalignment=\"center\",\n",
        "                  color=\"black\" if cm[i, j] > thresh else \"white\")\n",
        "    plt.show()"
      ],
      "execution_count": 36,
      "outputs": []
    },
    {
      "cell_type": "code",
      "metadata": {
        "id": "7TKjdK-SOpaP"
      },
      "source": [
        "def plot_diff(y_true, y_pred, title = '' ):\n",
        "    plt.scatter(y_true, y_pred)\n",
        "    plt.title(title)\n",
        "    plt.xlabel('True Values')\n",
        "    plt.ylabel('Predictions')\n",
        "    plt.axis('equal')\n",
        "    plt.axis('square')\n",
        "    plt.plot([-100, 100], [-100, 100])\n",
        "    return plt"
      ],
      "execution_count": 37,
      "outputs": []
    },
    {
      "cell_type": "code",
      "metadata": {
        "colab": {
          "base_uri": "https://localhost:8080/",
          "height": 281
        },
        "id": "2zhtD_4sOrdV",
        "outputId": "6e3dc729-1e1f-4e16-ce33-f20b27105495"
      },
      "source": [
        "plot_metrics('wine_quality_root_mean_squared_error', 'RMSE', ylim=2)"
      ],
      "execution_count": 38,
      "outputs": [
        {
          "output_type": "display_data",
          "data": {
            "image/png": "[encoded data removed]",
            "text/plain": [
              "<Figure size 432x288 with 1 Axes>"
            ]
          },
          "metadata": {
            "tags": [],
            "needs_background": "light"
          }
        }
      ]
    },
    {
      "cell_type": "code",
      "metadata": {
        "colab": {
          "base_uri": "https://localhost:8080/",
          "height": 281
        },
        "id": "27uMqxb0OtZX",
        "outputId": "485e9283-ceed-4955-a283-09b0341042a2"
      },
      "source": [
        "plot_metrics('wine_type_loss', 'Wine Type Loss', ylim=0.2)"
      ],
      "execution_count": 39,
      "outputs": [
        {
          "output_type": "display_data",
          "data": {
            "image/png": "[encoded data removed]",
            "text/plain": [
              "<Figure size 432x288 with 1 Axes>"
            ]
          },
          "metadata": {
            "tags": [],
            "needs_background": "light"
          }
        }
      ]
    },
    {
      "cell_type": "code",
      "metadata": {
        "colab": {
          "base_uri": "https://localhost:8080/",
          "height": 289
        },
        "id": "HprIzxZIOvYQ",
        "outputId": "0f21aeb1-4824-4809-a8c0-6b75db568bb1"
      },
      "source": [
        "plot_confusion_matrix(test_Y[1], np.round(type_pred), title='Wine Type', labels = [0, 1])"
      ],
      "execution_count": 40,
      "outputs": [
        {
          "output_type": "display_data",
          "data": {
            "image/png": "[encoded data removed]",
            "text/plain": [
              "<Figure size 432x288 with 2 Axes>"
            ]
          },
          "metadata": {
            "tags": [],
            "needs_background": "light"
          }
        }
      ]
    },
    {
      "cell_type": "code",
      "metadata": {
        "colab": {
          "base_uri": "https://localhost:8080/",
          "height": 295
        },
        "id": "bC1kRunHOyEP",
        "outputId": "efff07ca-2e14-4a92-8bd7-c8c81f9616b1"
      },
      "source": [
        "scatter_plot = plot_diff(test_Y[0], quality_pred, title='Type')"
      ],
      "execution_count": 41,
      "outputs": [
        {
          "output_type": "display_data",
          "data": {
            "image/png": "[encoded data removed]",
            "text/plain": [
              "<Figure size 432x288 with 1 Axes>"
            ]
          },
          "metadata": {
            "tags": [],
            "needs_background": "light"
          }
        }
      ]
    },
    {
      "cell_type": "code",
      "metadata": {
        "id": "12X7cUyRO0_t"
      },
      "source": [
        ""
      ],
      "execution_count": null,
      "outputs": []
    }
  ]
}